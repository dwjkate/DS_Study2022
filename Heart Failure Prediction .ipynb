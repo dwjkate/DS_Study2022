{
 "cells": [
  {
   "cell_type": "code",
   "execution_count": null,
   "id": "84d6dcdc",
   "metadata": {},
   "outputs": [],
   "source": [
    "!pip install pandas\n",
    "!pip install numpy\n",
    "!pip install matplotlib\n",
    "!pip install seaborn\n",
    "!pip install missingno\n",
    "!pip install scikit-learn\n"
   ]
  },
  {
   "cell_type": "code",
   "execution_count": 1,
   "id": "975f5430",
   "metadata": {},
   "outputs": [],
   "source": [
    "import numpy as np\n",
    "import seaborn as sns\n",
    "import pandas as pd\n",
    "import missingno as msno\n",
    "import matplotlib.pyplot as plt\n",
    "%matplotlib inline\n",
    "import pandas as pd"
   ]
  },
  {
   "cell_type": "code",
   "execution_count": null,
   "id": "22929997",
   "metadata": {},
   "outputs": [],
   "source": [
    "df = pd.read_csv(\"The Heart Failure Prediction Dataset.csv\")"
   ]
  },
  {
   "cell_type": "code",
   "execution_count": null,
   "id": "8dc199c8",
   "metadata": {},
   "outputs": [],
   "source": [
    "df.head()"
   ]
  },
  {
   "cell_type": "code",
   "execution_count": null,
   "id": "e2ecd705",
   "metadata": {},
   "outputs": [],
   "source": [
    "df.describe()"
   ]
  },
  {
   "cell_type": "code",
   "execution_count": null,
   "id": "048d5172",
   "metadata": {},
   "outputs": [],
   "source": [
    "# display the number of variables & number of obs\n",
    "print(df.shape)"
   ]
  },
  {
   "cell_type": "code",
   "execution_count": null,
   "id": "28665c6e",
   "metadata": {},
   "outputs": [],
   "source": [
    "#count the missing value\n",
    "print(df.isna().sum())\n",
    "msno.matrix(df)"
   ]
  },
  {
   "cell_type": "code",
   "execution_count": null,
   "id": "133d03c8",
   "metadata": {},
   "outputs": [],
   "source": [
    "print(df.nunique())"
   ]
  },
  {
   "cell_type": "code",
   "execution_count": null,
   "id": "0f53212b",
   "metadata": {},
   "outputs": [],
   "source": [
    "df['Mortality'].hist(bins=100, figsize=(10,6))\n",
    "plt.title('Histogram of mortality', size=15)\n",
    "plt.xlabel('Mortality', size=15)\n",
    "plt.ylabel('frequency', size=15)"
   ]
  },
  {
   "cell_type": "markdown",
   "id": "f5d3e63a",
   "metadata": {},
   "source": [
    "### this is the inbalanced dataset"
   ]
  },
  {
   "cell_type": "code",
   "execution_count": null,
   "id": "b1577b8a",
   "metadata": {},
   "outputs": [],
   "source": [
    "df['Mortality'].value_counts(dropna=False)"
   ]
  },
  {
   "cell_type": "code",
   "execution_count": null,
   "id": "f99bb17b",
   "metadata": {},
   "outputs": [],
   "source": [
    "df.duplicated().any()"
   ]
  },
  {
   "cell_type": "code",
   "execution_count": null,
   "id": "a839b927",
   "metadata": {},
   "outputs": [],
   "source": [
    "df.duplicated().any()"
   ]
  },
  {
   "cell_type": "code",
   "execution_count": null,
   "id": "c375cd21",
   "metadata": {},
   "outputs": [],
   "source": [
    "df.duplicated().sum()"
   ]
  },
  {
   "cell_type": "code",
   "execution_count": null,
   "id": "ad0611a0",
   "metadata": {},
   "outputs": [],
   "source": [
    "df = df.drop_duplicates()"
   ]
  },
  {
   "cell_type": "code",
   "execution_count": null,
   "id": "8cc7c04c",
   "metadata": {},
   "outputs": [],
   "source": [
    "df.duplicated().sum()"
   ]
  },
  {
   "cell_type": "code",
   "execution_count": null,
   "id": "33960f10",
   "metadata": {},
   "outputs": [],
   "source": [
    "# HW\n",
    "# 1.check duplicated columns \n",
    "# 2.create histogram for other columns (pick random columns)\n",
    "# 3.read the dataset and discover any findings\n",
    "# extra: how to use EDA - EDA with this dataset. \n"
   ]
  },
  {
   "cell_type": "code",
   "execution_count": null,
   "id": "f62bbad6",
   "metadata": {},
   "outputs": [],
   "source": [
    "# 1.check duplicated columns \n",
    "# methode 1\n",
    "#referrence link: https://www.geeksforgeeks.org/how-to-find-drop-duplicate-columns-in-a-pandas-dataframe/\n",
    "#                 https://www.marsja.se/how-to-get-the-column-names-from-a-pandas-dataframe-print-and-list/\n",
    "\n",
    "def getDuplicateColumns(df):\n",
    "  \n",
    "    # Create an empty set\n",
    "    duplicateColumnNames = set()\n",
    "      \n",
    "    # Iterate through all the columns \n",
    "    # of dataframe\n",
    "    for x in range(df.shape[1]):\n",
    "          \n",
    "        # Take column at xth index.\n",
    "        col = df.iloc[:, x]\n",
    "          \n",
    "        # Iterate through all the columns in\n",
    "        # DataFrame from (x + 1)th index to\n",
    "        # last index\n",
    "        for y in range(x + 1, df.shape[1]):\n",
    "              \n",
    "            # Take column at yth index.\n",
    "            otherCol = df.iloc[:, y]\n",
    "              \n",
    "            # Check if two columns at x & y\n",
    "            # index are equal or not,\n",
    "            # if equal then adding \n",
    "            # to the set\n",
    "            if col.equals(otherCol):\n",
    "                duplicateColumnNames.add(df.columns.values[y])\n",
    "                  \n",
    "    # Return list of unique column names \n",
    "    # whose contents are duplicates.\n",
    "    \n",
    "    return list(duplicateColumnNames)\n",
    "\n",
    " "
   ]
  },
  {
   "cell_type": "code",
   "execution_count": null,
   "id": "dae02e18",
   "metadata": {
    "scrolled": true
   },
   "outputs": [],
   "source": [
    "# Get all column names \n",
    "for col_name in df.columns: \n",
    "    print(col_name)"
   ]
  },
  {
   "cell_type": "code",
   "execution_count": null,
   "id": "75189545",
   "metadata": {},
   "outputs": [],
   "source": [
    "    duplicateColNames = getDuplicateColumns(df)\n",
    "  \n",
    "    print('Duplicate Columns are :')\n",
    "        \n",
    "    # Iterate through duplicate\n",
    "    # column names\n",
    "    for col_name in duplicateColNames:\n",
    "       print('Column Name : ', col_name)"
   ]
  },
  {
   "cell_type": "code",
   "execution_count": null,
   "id": "b43723df",
   "metadata": {},
   "outputs": [],
   "source": [
    "df['S.Sodium'].hist(bins=10, figsize=(12,8), color='hotPink', edgecolor='black', linewidth=1.5)\n",
    "plt.title('Histogram of S.Sodium', size=15,fontweight=\"bold\")\n",
    "plt.xlabel('S.Sodium', size=15)\n",
    "plt.ylabel('frequency', size=15)\n"
   ]
  },
  {
   "cell_type": "code",
   "execution_count": null,
   "id": "03072f22",
   "metadata": {},
   "outputs": [],
   "source": [
    "df['chol'].hist(bins=15, figsize=(12,8), color='salmon', edgecolor='red', linewidth=1.2)\n",
    "plt.title('Histogram of Cholesterol', size=15,fontweight=\"bold\")\n",
    "plt.xlabel('chol', size=15)\n",
    "plt.ylabel('frequency', size=15)"
   ]
  },
  {
   "cell_type": "code",
   "execution_count": null,
   "id": "ca3852f0",
   "metadata": {},
   "outputs": [],
   "source": [
    "df['Age'].hist(bins=30, figsize=(12,8), color='green', edgecolor='red', linewidth=1.2)\n",
    "plt.title('Histogram of Age', size=15,fontweight=\"bold\")\n",
    "plt.xlabel('chol', size=15)\n",
    "plt.ylabel('frequency', size=15)"
   ]
  },
  {
   "cell_type": "code",
   "execution_count": null,
   "id": "5689bcc0",
   "metadata": {},
   "outputs": [],
   "source": [
    "df[\"Age\"].median()\n"
   ]
  },
  {
   "cell_type": "code",
   "execution_count": null,
   "id": "41f9cfd4",
   "metadata": {},
   "outputs": [],
   "source": [
    "df[\"Age\"].mean()"
   ]
  },
  {
   "cell_type": "code",
   "execution_count": null,
   "id": "6a758ff2",
   "metadata": {},
   "outputs": [],
   "source": [
    "corr=df[['chol','Age','Mortality','Diabetes']].corr()\n"
   ]
  },
  {
   "cell_type": "code",
   "execution_count": null,
   "id": "a06f5538",
   "metadata": {},
   "outputs": [],
   "source": [
    "#reference: https://towardsdatascience.com/exploratory-data-analysis-eda-visualization-using-pandas-ca5a04271607\n",
    "#attempt: try to define corr between target vars\n",
    "#Issue: not every vars are continuous variables?\n",
    "\n",
    "\n",
    "corr.style.background_gradient(cmap='coolwarm').set_precision(2)"
   ]
  },
  {
   "cell_type": "code",
   "execution_count": null,
   "id": "be66b381",
   "metadata": {},
   "outputs": [],
   "source": [
    "colname=list(df.columns)"
   ]
  },
  {
   "cell_type": "code",
   "execution_count": null,
   "id": "9ba2272b",
   "metadata": {},
   "outputs": [],
   "source": [
    "#reference: https://towardsdatascience.com/exploratory-data-analysis-eda-visualization-using-pandas-ca5a04271607\n",
    "#attempt: try to define corr between target vars\n",
    "#Issue: not every vars are continuous variables\n",
    "\n",
    "\n",
    "allcorr=df[colname].corr()\n",
    "allcorr.style.background_gradient(cmap='coolwarm').set_precision(2)"
   ]
  },
  {
   "cell_type": "code",
   "execution_count": null,
   "id": "98d97531",
   "metadata": {},
   "outputs": [],
   "source": [
    "from pandas import factorize\n",
    "\n",
    "labels, categories = factorize(df[\"Mortality\"])\n",
    "df[\"labels\"] = labels\n",
    "abs(df[\"Age\"].corr(df[\"labels\"]))"
   ]
  },
  {
   "cell_type": "code",
   "execution_count": null,
   "id": "5e67e3b5",
   "metadata": {},
   "outputs": [],
   "source": [
    "#attempt: \n",
    "\n",
    "import seaborn as sns\n",
    "sns.scatterplot(data=df, x=df.index, y='Age', hue='Mortality')"
   ]
  },
  {
   "cell_type": "code",
   "execution_count": null,
   "id": "c58c7665",
   "metadata": {
    "scrolled": true
   },
   "outputs": [],
   "source": [
    "#reference: \n",
    "#attempted to caluculate the correlation between continuous variable and categorical variable by dython\n",
    "#issue: target variable (Mortality has been read as continuous variable)\n",
    "\n",
    "!pip install dython\n",
    "from dython import nominal\n",
    "nominal.associations(df,figsize=(200,100),mark_columns=True);"
   ]
  },
  {
   "cell_type": "code",
   "execution_count": null,
   "id": "aaa1ae6d",
   "metadata": {},
   "outputs": [],
   "source": [
    "#Point Biserial Correlation with Python\n",
    "#referrence: https://towardsdatascience.com/point-biserial-correlation-with-python-f7cd591bd3b1\n",
    "\n",
    "#Point Biserial Correlation and how it is computed.\n",
    "\n",
    "#The point biserial correlation coefficient is the same as the Pearson correlation coefficient \n",
    "#used in linear regression (measured from -1 to 1). The only difference is we are comparing \n",
    "#dichotomous data to continuous data instead of continuous data to continuous data. \n",
    "#From this point on let’s assume that our dichotomous data is composed of items from two groups \n",
    "#(group 0 and group 1) and the continuous data as “y”.\n",
    "\n",
    "\n",
    "\n",
    "\n",
    "\n",
    "\n",
    "\n",
    "import pandas as pd\n",
    "from scipy.stats import pointbiserialr\n",
    "\n",
    "\n",
    "# get continuous and dichotomous data\n",
    "Age = df['Age']\n",
    "Mortality = df['Mortality']\n",
    "\n",
    "# pbc of first question\n",
    "pbc = pointbiserialr(Mortality, Age)\n",
    "print(pbc)"
   ]
  },
  {
   "cell_type": "code",
   "execution_count": null,
   "id": "a827f493",
   "metadata": {},
   "outputs": [],
   "source": [
    "df.groupby(['Mortality']).mean()\n"
   ]
  },
  {
   "cell_type": "markdown",
   "id": "cbc073d6",
   "metadata": {},
   "source": [
    "# 8/26 HW\n",
    "## find three ways to detect the outliers\n"
   ]
  },
  {
   "cell_type": "markdown",
   "id": "6cd99839",
   "metadata": {},
   "source": [
    "## Method 1 - Standard Deviation"
   ]
  },
  {
   "cell_type": "code",
   "execution_count": null,
   "id": "bbda67f1",
   "metadata": {
    "scrolled": true
   },
   "outputs": [],
   "source": [
    "#1.check the distribution of dataset\n",
    "\n",
    "df_raw = df['chol']\n",
    "df_raw.hist(bins=10, figsize=(6,4), color='blue', edgecolor='black', linewidth=1.5)\n",
    "plt.title('Histogram of chol', size=15,fontweight=\"bold\")\n",
    "plt.xlabel('chol', size=15)\n",
    "plt.ylabel('frequency', size=15)"
   ]
  },
  {
   "cell_type": "code",
   "execution_count": null,
   "id": "af0a21ac",
   "metadata": {
    "scrolled": true
   },
   "outputs": [],
   "source": [
    "# data shape before removal of outliers\n",
    "df_m1 = df[[\"chol\"]]\n",
    "df_m1.shape"
   ]
  },
  {
   "cell_type": "code",
   "execution_count": null,
   "id": "86268843",
   "metadata": {
    "scrolled": true
   },
   "outputs": [],
   "source": [
    "df_m1.describe()"
   ]
  },
  {
   "cell_type": "code",
   "execution_count": null,
   "id": "5b102693",
   "metadata": {
    "scrolled": true
   },
   "outputs": [],
   "source": [
    "df_m1.chol.mean()"
   ]
  },
  {
   "cell_type": "code",
   "execution_count": null,
   "id": "ec8f56fb",
   "metadata": {},
   "outputs": [],
   "source": [
    "df_m1.chol.std()"
   ]
  },
  {
   "cell_type": "code",
   "execution_count": null,
   "id": "fbfaf405",
   "metadata": {},
   "outputs": [],
   "source": [
    "upper_limit = df_m1.chol.mean() + 3*df_m1.chol.std()\n",
    "upper_limit"
   ]
  },
  {
   "cell_type": "code",
   "execution_count": null,
   "id": "d0384b1d",
   "metadata": {},
   "outputs": [],
   "source": [
    "lower_limit = df_m1.chol.mean() - 3*df_m1.chol.std()\n",
    "lower_limit"
   ]
  },
  {
   "cell_type": "code",
   "execution_count": null,
   "id": "d01f7a89",
   "metadata": {},
   "outputs": [],
   "source": [
    "#define outlier by method 1\n",
    "df_m1[(df_m1.chol>upper_limit) | (df_m1.chol<lower_limit)]"
   ]
  },
  {
   "cell_type": "code",
   "execution_count": null,
   "id": "c7f10372",
   "metadata": {
    "scrolled": false
   },
   "outputs": [],
   "source": [
    "# data without outlier m1\n",
    "df_m1_no_outlier = df_m1[(df_m1.chol < upper_limit) & (df_m1.chol > lower_limit)]\n",
    "df_m1_no_outlier"
   ]
  },
  {
   "cell_type": "code",
   "execution_count": null,
   "id": "70319969",
   "metadata": {},
   "outputs": [],
   "source": [
    "df_m1_no_outlier.shape"
   ]
  },
  {
   "cell_type": "markdown",
   "id": "438d9f1b",
   "metadata": {},
   "source": [
    "## Method 2 - Boxplot"
   ]
  },
  {
   "cell_type": "code",
   "execution_count": null,
   "id": "ecf2179c",
   "metadata": {},
   "outputs": [],
   "source": [
    "df_m2 = df[[\"chol\"]]\n",
    "df_m2"
   ]
  },
  {
   "cell_type": "code",
   "execution_count": null,
   "id": "9205c252",
   "metadata": {},
   "outputs": [],
   "source": [
    "#2 boxplot \n",
    "# define a function called box-plot\n",
    "def plot_boxplot (df,ft):\n",
    "    df.boxplot(column=[ft])\n",
    "    plt.grid(False)\n",
    "    plt.show"
   ]
  },
  {
   "cell_type": "code",
   "execution_count": null,
   "id": "064ab3b8",
   "metadata": {
    "scrolled": false
   },
   "outputs": [],
   "source": [
    "plot_boxplot(df_m2, \"chol\")\n"
   ]
  },
  {
   "cell_type": "code",
   "execution_count": null,
   "id": "73dcb1af",
   "metadata": {},
   "outputs": [],
   "source": [
    "# define a function called \"Outliers\" which returns a list of index of outliers\n",
    "#IQR = Q3-Q1\n",
    "# +/- 1.5*IQR\n",
    "\n",
    "def outliers(df, ft):\n",
    "    Q1 = df_m2[ft].quantile(0.25)\n",
    "    Q3 = df_m2[ft].quantile(0.75)\n",
    "    IQR = Q3 - Q1\n",
    "    \n",
    "    lower_bound = Q1 - 1.5 * IQR\n",
    "    upper_bound = Q3 + 1.5 * IQR\n",
    "    \n",
    "    ls = df_m2.index[ (df_m2[ft] <= lower_bound) | (df_m2[ft] > upper_bound) ]\n",
    "    \n",
    "    return ls\n"
   ]
  },
  {
   "cell_type": "code",
   "execution_count": null,
   "id": "e4bb3359",
   "metadata": {},
   "outputs": [],
   "source": [
    "# create an empty list to store the output indices from multiple columns -> in case we have more than one column to remove outliers\n",
    "\n",
    "index_list = []\n",
    "for feature in ['chol']:\n",
    "    index_list.extend(outliers(df,feature))"
   ]
  },
  {
   "cell_type": "code",
   "execution_count": null,
   "id": "1443f4ac",
   "metadata": {
    "scrolled": true
   },
   "outputs": [],
   "source": [
    "index_list"
   ]
  },
  {
   "cell_type": "code",
   "execution_count": null,
   "id": "b2d26620",
   "metadata": {},
   "outputs": [],
   "source": [
    "# define a function called \"remove\" which returns a cleaned dataframe without outliers\n",
    "\n",
    "def remove(df, ls):\n",
    "    ls = sorted(set(ls))\n",
    "    df = df.drop(ls)\n",
    "    return df"
   ]
  },
  {
   "cell_type": "code",
   "execution_count": null,
   "id": "96b0db21",
   "metadata": {},
   "outputs": [],
   "source": [
    "df_m2_cleaned = remove(df_m2, index_list)"
   ]
  },
  {
   "cell_type": "code",
   "execution_count": null,
   "id": "00a24966",
   "metadata": {
    "scrolled": false
   },
   "outputs": [],
   "source": [
    "df_m2_cleaned.shape"
   ]
  },
  {
   "cell_type": "code",
   "execution_count": null,
   "id": "7397aab9",
   "metadata": {
    "scrolled": true
   },
   "outputs": [],
   "source": [
    "plot_boxplot(df_m2_cleaned, \"chol\")"
   ]
  },
  {
   "cell_type": "code",
   "execution_count": null,
   "id": "60e3e28c",
   "metadata": {
    "scrolled": false
   },
   "outputs": [],
   "source": [
    "df_m2_cleaned.describe()"
   ]
  },
  {
   "cell_type": "code",
   "execution_count": null,
   "id": "c94876be",
   "metadata": {},
   "outputs": [],
   "source": [
    "df_cleaned.shape"
   ]
  },
  {
   "cell_type": "markdown",
   "id": "c646bdf6",
   "metadata": {},
   "source": [
    "## Method 3 - Zscore"
   ]
  },
  {
   "cell_type": "code",
   "execution_count": null,
   "id": "9d29bf1c",
   "metadata": {},
   "outputs": [],
   "source": [
    "df_m3 = df[[\"chol\"]]\n",
    "df_m3"
   ]
  },
  {
   "cell_type": "code",
   "execution_count": null,
   "id": "58e8f459",
   "metadata": {},
   "outputs": [],
   "source": [
    "#3. adding the column of z-score to the dataset\n",
    "\n",
    "df_m3['zscore'] = (df_m3.chol - df_m3.chol.mean())/df_m3.chol.std()\n",
    "df_m3.head(5)"
   ]
  },
  {
   "cell_type": "code",
   "execution_count": null,
   "id": "882dc615",
   "metadata": {},
   "outputs": [],
   "source": [
    "# identify the outlier\n",
    "\n",
    "df_m3[df_m3['zscore']>3]"
   ]
  },
  {
   "cell_type": "code",
   "execution_count": null,
   "id": "91ac74bd",
   "metadata": {
    "scrolled": true
   },
   "outputs": [],
   "source": [
    "# identify the outlier2\n",
    "df_m3[(df_m3.zscore < -3) | (df_m3.zscore > 3)]"
   ]
  },
  {
   "cell_type": "code",
   "execution_count": null,
   "id": "12f714ab",
   "metadata": {
    "scrolled": true
   },
   "outputs": [],
   "source": [
    "# dataset without outliers\n",
    "\n",
    "\n",
    "df_m3_no_outliers3 = df_m3[(df_m3.zscore > -3) & (df_m3.zscore < 3)]\n",
    "df_m3_no_outliers3"
   ]
  },
  {
   "cell_type": "code",
   "execution_count": null,
   "id": "53274797",
   "metadata": {},
   "outputs": [],
   "source": [
    "df_m3_no_outliers3.shape"
   ]
  },
  {
   "cell_type": "markdown",
   "id": "25bc239a",
   "metadata": {},
   "source": [
    "## visualization of before & after outliers"
   ]
  },
  {
   "cell_type": "code",
   "execution_count": null,
   "id": "1e93befd",
   "metadata": {
    "scrolled": false
   },
   "outputs": [],
   "source": [
    "import numpy as np\n",
    "import scipy as sp\n",
    "\n",
    "df['chol'].hist(bins=15, figsize=(8,6), color='cyan', edgecolor='red', linewidth=1.2)\n",
    "plt.title('Histogram of chol', size=15,fontweight=\"bold\")\n",
    "plt.xlabel('chol', size=15)\n",
    "plt.ylabel('frequency', size=15)\n",
    "# rng = np.arange(df.chol.min(),df.chol.max(), 0.1)\n",
    "# plt.plot(rng, norm.pdf(rng,df.chol.mean(),df.Age.std()))"
   ]
  },
  {
   "cell_type": "code",
   "execution_count": null,
   "id": "2b84b196",
   "metadata": {},
   "outputs": [],
   "source": [
    "df_cleaned['chol'].hist(bins=15, figsize=(8,6), color='cyan', edgecolor='red', linewidth=1.2)\n",
    "plt.title('Histogram of chol', size=15,fontweight=\"bold\")\n",
    "plt.xlabel('chol', size=15)\n",
    "plt.ylabel('frequency', size=15)\n",
    "# rng = np.arange(df.chol.min(),df.chol.max(), 0.1)\n",
    "\n"
   ]
  },
  {
   "cell_type": "code",
   "execution_count": null,
   "id": "357752f4",
   "metadata": {
    "scrolled": false
   },
   "outputs": [],
   "source": [
    "# verify the normality of the distribution by qq plot\n",
    "# qq plot before removing outliers\n",
    "import numpy as np \n",
    "import pylab \n",
    "import scipy.stats as stats\n",
    "\n",
    "  \n",
    "stats.probplot(df.chol, dist=\"norm\", plot=pylab)\n",
    "pylab.show()"
   ]
  },
  {
   "cell_type": "code",
   "execution_count": null,
   "id": "df44fb0a",
   "metadata": {
    "scrolled": true
   },
   "outputs": [],
   "source": [
    "# QQ plot after removing outliers\n",
    "\n",
    "import numpy as np \n",
    "import pylab \n",
    "import scipy.stats as stats\n",
    "\n",
    "  \n",
    "stats.probplot(df_cleaned.chol, dist=\"norm\", plot=pylab)\n",
    "pylab.show()"
   ]
  },
  {
   "cell_type": "markdown",
   "id": "93cc093c",
   "metadata": {},
   "source": [
    "#### this column is not normally distributed as the data points are far away from the straight line"
   ]
  },
  {
   "cell_type": "code",
   "execution_count": null,
   "id": "4ea21a43",
   "metadata": {},
   "outputs": [],
   "source": [
    "sns.boxplot(x=df.chol)\n"
   ]
  },
  {
   "cell_type": "code",
   "execution_count": null,
   "id": "86a6b7a4",
   "metadata": {},
   "outputs": [],
   "source": [
    "sns.boxplot(x=df_cleaned.chol)"
   ]
  },
  {
   "cell_type": "code",
   "execution_count": null,
   "id": "106d16e7",
   "metadata": {},
   "outputs": [],
   "source": [
    "import plotly.express as px\n",
    "\n",
    "fig = px.histogram(df, x=\"chol”, marginal=\"box\")\n",
    "fig.show()"
   ]
  },
  {
   "cell_type": "code",
   "execution_count": null,
   "id": "bb640b4d",
   "metadata": {},
   "outputs": [],
   "source": [
    "!pip install plotly"
   ]
  },
  {
   "cell_type": "code",
   "execution_count": null,
   "id": "bedf370f",
   "metadata": {},
   "outputs": [],
   "source": [
    "fig = px.histogram(df, x=\"chol”, marginal='box')\n",
    "fig.show()"
   ]
  },
  {
   "cell_type": "code",
   "execution_count": null,
   "id": "d3fee803",
   "metadata": {
    "scrolled": true
   },
   "outputs": [],
   "source": [
    "pip install pandas-profiling"
   ]
  },
  {
   "cell_type": "code",
   "execution_count": 2,
   "id": "ecace2e9",
   "metadata": {},
   "outputs": [],
   "source": [
    "df = pd.read_csv(\"The Heart Failure Prediction Dataset.csv\")"
   ]
  },
  {
   "cell_type": "code",
   "execution_count": 3,
   "id": "e7d67ca8",
   "metadata": {},
   "outputs": [
    {
     "data": {
      "text/plain": [
       "Index(['Age', 'Age.Group', 'Gender', 'Locality  ',\n",
       "       'Marital status                       ',\n",
       "       'Life.Style                                                                              ',\n",
       "       'Sleep', 'Category', 'Depression', 'Hyperlipi', 'Smoking',\n",
       "       'Family.History', 'F.History', 'Diabetes', 'HTN', 'Allergies', 'BP',\n",
       "       'Thrombolysis', 'BGR', 'B.Urea', 'S.Cr', 'S.Sodium', 'S.Potassium',\n",
       "       'S.Chloride', 'C.P.K', 'CK.MB', 'ESR', 'WBC', 'RBC', 'Hemoglobin',\n",
       "       'P.C.V', 'M.C.V', 'M.C.H', 'M.C.H.C', 'PLATELET_COUNT', 'NEUTROPHIL',\n",
       "       'LYMPHO', 'MONOCYTE', 'EOSINO', 'Others ', 'CO', 'Diagnosis',\n",
       "       'Hypersensitivity', 'cp', 'trestbps', 'chol', 'fbs', 'restecg',\n",
       "       'thalach', 'exang', 'oldpeak', 'slope', 'ca', 'thal', 'num', 'SK',\n",
       "       'SK.React', 'Reaction', 'Mortality', 'Follow.Up'],\n",
       "      dtype='object')"
      ]
     },
     "execution_count": 3,
     "metadata": {},
     "output_type": "execute_result"
    }
   ],
   "source": [
    "df.columns"
   ]
  },
  {
   "cell_type": "code",
   "execution_count": 4,
   "id": "c8d2d9ad",
   "metadata": {},
   "outputs": [],
   "source": [
    "df.columns = df.columns.str.replace(\" \",\"\")"
   ]
  },
  {
   "cell_type": "code",
   "execution_count": 5,
   "id": "dec2e987",
   "metadata": {},
   "outputs": [
    {
     "data": {
      "text/plain": [
       "Index(['Age', 'Age.Group', 'Gender', 'Locality', 'Maritalstatus', 'Life.Style',\n",
       "       'Sleep', 'Category', 'Depression', 'Hyperlipi', 'Smoking',\n",
       "       'Family.History', 'F.History', 'Diabetes', 'HTN', 'Allergies', 'BP',\n",
       "       'Thrombolysis', 'BGR', 'B.Urea', 'S.Cr', 'S.Sodium', 'S.Potassium',\n",
       "       'S.Chloride', 'C.P.K', 'CK.MB', 'ESR', 'WBC', 'RBC', 'Hemoglobin',\n",
       "       'P.C.V', 'M.C.V', 'M.C.H', 'M.C.H.C', 'PLATELET_COUNT', 'NEUTROPHIL',\n",
       "       'LYMPHO', 'MONOCYTE', 'EOSINO', 'Others', 'CO', 'Diagnosis',\n",
       "       'Hypersensitivity', 'cp', 'trestbps', 'chol', 'fbs', 'restecg',\n",
       "       'thalach', 'exang', 'oldpeak', 'slope', 'ca', 'thal', 'num', 'SK',\n",
       "       'SK.React', 'Reaction', 'Mortality', 'Follow.Up'],\n",
       "      dtype='object')"
      ]
     },
     "execution_count": 5,
     "metadata": {},
     "output_type": "execute_result"
    }
   ],
   "source": [
    "df.columns"
   ]
  },
  {
   "cell_type": "code",
   "execution_count": 6,
   "id": "4f1c4221",
   "metadata": {},
   "outputs": [
    {
     "name": "stderr",
     "output_type": "stream",
     "text": [
      "/var/folders/vx/3fzmhxwj1614qwn_5ffwsz7m0000gn/T/ipykernel_59888/769416751.py:1: FutureWarning: The default value of regex will change from True to False in a future version. In addition, single character regular expressions will *not* be treated as literal strings when regex=True.\n",
      "  df.columns = df.columns.str.replace(\".\",\"\")\n"
     ]
    }
   ],
   "source": [
    "df.columns = df.columns.str.replace(\".\",\"\")"
   ]
  },
  {
   "cell_type": "code",
   "execution_count": 7,
   "id": "f7057f2b",
   "metadata": {
    "scrolled": true
   },
   "outputs": [
    {
     "data": {
      "text/plain": [
       "Index(['Age', 'AgeGroup', 'Gender', 'Locality', 'Maritalstatus', 'LifeStyle',\n",
       "       'Sleep', 'Category', 'Depression', 'Hyperlipi', 'Smoking',\n",
       "       'FamilyHistory', 'FHistory', 'Diabetes', 'HTN', 'Allergies', 'BP',\n",
       "       'Thrombolysis', 'BGR', 'BUrea', 'SCr', 'SSodium', 'SPotassium',\n",
       "       'SChloride', 'CPK', 'CKMB', 'ESR', 'WBC', 'RBC', 'Hemoglobin', 'PCV',\n",
       "       'MCV', 'MCH', 'MCHC', 'PLATELET_COUNT', 'NEUTROPHIL', 'LYMPHO',\n",
       "       'MONOCYTE', 'EOSINO', 'Others', 'CO', 'Diagnosis', 'Hypersensitivity',\n",
       "       'cp', 'trestbps', 'chol', 'fbs', 'restecg', 'thalach', 'exang',\n",
       "       'oldpeak', 'slope', 'ca', 'thal', 'num', 'SK', 'SKReact', 'Reaction',\n",
       "       'Mortality', 'FollowUp'],\n",
       "      dtype='object')"
      ]
     },
     "execution_count": 7,
     "metadata": {},
     "output_type": "execute_result"
    }
   ],
   "source": [
    "df.columns"
   ]
  },
  {
   "cell_type": "code",
   "execution_count": 8,
   "id": "7e493e76",
   "metadata": {},
   "outputs": [],
   "source": [
    "# #EDA using pandas-profiling\n",
    "# profile = ProfileReport(df, explorative=True)\n",
    "\n",
    "# #Saving results to a HTML file\n",
    "# profile.to_file(\"output.html\")"
   ]
  },
  {
   "cell_type": "code",
   "execution_count": 9,
   "id": "59f62ffb",
   "metadata": {},
   "outputs": [],
   "source": [
    "# df = df.drop[columns = \"FamilyHistory\"]\n",
    "df = df.drop('FamilyHistory', axis = 1)"
   ]
  },
  {
   "cell_type": "code",
   "execution_count": 10,
   "id": "75071701",
   "metadata": {},
   "outputs": [
    {
     "data": {
      "text/html": [
       "<div>\n",
       "<style scoped>\n",
       "    .dataframe tbody tr th:only-of-type {\n",
       "        vertical-align: middle;\n",
       "    }\n",
       "\n",
       "    .dataframe tbody tr th {\n",
       "        vertical-align: top;\n",
       "    }\n",
       "\n",
       "    .dataframe thead th {\n",
       "        text-align: right;\n",
       "    }\n",
       "</style>\n",
       "<table border=\"1\" class=\"dataframe\">\n",
       "  <thead>\n",
       "    <tr style=\"text-align: right;\">\n",
       "      <th></th>\n",
       "      <th>Age</th>\n",
       "      <th>AgeGroup</th>\n",
       "      <th>Gender</th>\n",
       "      <th>Locality</th>\n",
       "      <th>Maritalstatus</th>\n",
       "      <th>LifeStyle</th>\n",
       "      <th>Sleep</th>\n",
       "      <th>Category</th>\n",
       "      <th>Depression</th>\n",
       "      <th>Hyperlipi</th>\n",
       "      <th>...</th>\n",
       "      <th>oldpeak</th>\n",
       "      <th>slope</th>\n",
       "      <th>ca</th>\n",
       "      <th>thal</th>\n",
       "      <th>num</th>\n",
       "      <th>SK</th>\n",
       "      <th>SKReact</th>\n",
       "      <th>Reaction</th>\n",
       "      <th>Mortality</th>\n",
       "      <th>FollowUp</th>\n",
       "    </tr>\n",
       "  </thead>\n",
       "  <tbody>\n",
       "    <tr>\n",
       "      <th>0</th>\n",
       "      <td>24</td>\n",
       "      <td>21-30</td>\n",
       "      <td>Female</td>\n",
       "      <td>URBAN</td>\n",
       "      <td>MARRIED</td>\n",
       "      <td>NO</td>\n",
       "      <td>NO</td>\n",
       "      <td>FREE</td>\n",
       "      <td>NO</td>\n",
       "      <td>YES</td>\n",
       "      <td>...</td>\n",
       "      <td>1.6</td>\n",
       "      <td>2</td>\n",
       "      <td>0</td>\n",
       "      <td>7</td>\n",
       "      <td>1.0</td>\n",
       "      <td>1</td>\n",
       "      <td>NO</td>\n",
       "      <td>0</td>\n",
       "      <td>0</td>\n",
       "      <td>1.0</td>\n",
       "    </tr>\n",
       "    <tr>\n",
       "      <th>1</th>\n",
       "      <td>24</td>\n",
       "      <td>21-30</td>\n",
       "      <td>Male</td>\n",
       "      <td>URBAN</td>\n",
       "      <td>MARRIED</td>\n",
       "      <td>YES</td>\n",
       "      <td>YES</td>\n",
       "      <td>FREE</td>\n",
       "      <td>YES</td>\n",
       "      <td>YES</td>\n",
       "      <td>...</td>\n",
       "      <td>1.6</td>\n",
       "      <td>2</td>\n",
       "      <td>0</td>\n",
       "      <td>7</td>\n",
       "      <td>1.0</td>\n",
       "      <td>1</td>\n",
       "      <td>COUGH.BLEEDING</td>\n",
       "      <td>1</td>\n",
       "      <td>0</td>\n",
       "      <td>5.0</td>\n",
       "    </tr>\n",
       "    <tr>\n",
       "      <th>2</th>\n",
       "      <td>24</td>\n",
       "      <td>21-30</td>\n",
       "      <td>Male</td>\n",
       "      <td>URBAN</td>\n",
       "      <td>MARRIED</td>\n",
       "      <td>YES</td>\n",
       "      <td>YES</td>\n",
       "      <td>FREE</td>\n",
       "      <td>YES</td>\n",
       "      <td>YES</td>\n",
       "      <td>...</td>\n",
       "      <td>1.6</td>\n",
       "      <td>2</td>\n",
       "      <td>0</td>\n",
       "      <td>7</td>\n",
       "      <td>1.0</td>\n",
       "      <td>1</td>\n",
       "      <td>COUGH.BLEEDING</td>\n",
       "      <td>1</td>\n",
       "      <td>0</td>\n",
       "      <td>5.0</td>\n",
       "    </tr>\n",
       "    <tr>\n",
       "      <th>3</th>\n",
       "      <td>24</td>\n",
       "      <td>21-30</td>\n",
       "      <td>Male</td>\n",
       "      <td>URBAN</td>\n",
       "      <td>MARRIED</td>\n",
       "      <td>YES</td>\n",
       "      <td>YES</td>\n",
       "      <td>FREE</td>\n",
       "      <td>YES</td>\n",
       "      <td>YES</td>\n",
       "      <td>...</td>\n",
       "      <td>1.6</td>\n",
       "      <td>2</td>\n",
       "      <td>0</td>\n",
       "      <td>7</td>\n",
       "      <td>1.0</td>\n",
       "      <td>1</td>\n",
       "      <td>COUGH.BLEEDING</td>\n",
       "      <td>1</td>\n",
       "      <td>0</td>\n",
       "      <td>5.0</td>\n",
       "    </tr>\n",
       "    <tr>\n",
       "      <th>4</th>\n",
       "      <td>24</td>\n",
       "      <td>21-30</td>\n",
       "      <td>Male</td>\n",
       "      <td>URBAN</td>\n",
       "      <td>MARRIED</td>\n",
       "      <td>YES</td>\n",
       "      <td>YES</td>\n",
       "      <td>FREE</td>\n",
       "      <td>YES</td>\n",
       "      <td>YES</td>\n",
       "      <td>...</td>\n",
       "      <td>1.6</td>\n",
       "      <td>2</td>\n",
       "      <td>0</td>\n",
       "      <td>7</td>\n",
       "      <td>1.0</td>\n",
       "      <td>1</td>\n",
       "      <td>COUGH.BLEEDING</td>\n",
       "      <td>1</td>\n",
       "      <td>0</td>\n",
       "      <td>5.0</td>\n",
       "    </tr>\n",
       "  </tbody>\n",
       "</table>\n",
       "<p>5 rows × 59 columns</p>\n",
       "</div>"
      ],
      "text/plain": [
       "   Age AgeGroup  Gender Locality Maritalstatus LifeStyle Sleep Category  \\\n",
       "0   24    21-30  Female    URBAN       MARRIED        NO    NO     FREE   \n",
       "1   24    21-30    Male    URBAN       MARRIED       YES   YES     FREE   \n",
       "2   24    21-30    Male    URBAN       MARRIED       YES   YES     FREE   \n",
       "3   24    21-30    Male    URBAN       MARRIED       YES   YES     FREE   \n",
       "4   24    21-30    Male    URBAN       MARRIED       YES   YES     FREE   \n",
       "\n",
       "  Depression Hyperlipi  ... oldpeak  slope  ca thal  num  SK         SKReact  \\\n",
       "0         NO       YES  ...     1.6      2   0    7  1.0   1              NO   \n",
       "1        YES       YES  ...     1.6      2   0    7  1.0   1  COUGH.BLEEDING   \n",
       "2        YES       YES  ...     1.6      2   0    7  1.0   1  COUGH.BLEEDING   \n",
       "3        YES       YES  ...     1.6      2   0    7  1.0   1  COUGH.BLEEDING   \n",
       "4        YES       YES  ...     1.6      2   0    7  1.0   1  COUGH.BLEEDING   \n",
       "\n",
       "   Reaction  Mortality  FollowUp  \n",
       "0         0          0       1.0  \n",
       "1         1          0       5.0  \n",
       "2         1          0       5.0  \n",
       "3         1          0       5.0  \n",
       "4         1          0       5.0  \n",
       "\n",
       "[5 rows x 59 columns]"
      ]
     },
     "execution_count": 10,
     "metadata": {},
     "output_type": "execute_result"
    }
   ],
   "source": [
    "df.head()"
   ]
  },
  {
   "cell_type": "code",
   "execution_count": 11,
   "id": "fe397a20",
   "metadata": {},
   "outputs": [],
   "source": [
    "list_cols = list(df.columns)"
   ]
  },
  {
   "cell_type": "code",
   "execution_count": 12,
   "id": "a1dfd0cd",
   "metadata": {},
   "outputs": [],
   "source": [
    "two_val_list = []\n",
    "for i in list_cols:\n",
    "    if df[i].nunique() ==2:\n",
    "        two_val_list.append(i)"
   ]
  },
  {
   "cell_type": "code",
   "execution_count": 13,
   "id": "d3a85a68",
   "metadata": {},
   "outputs": [
    {
     "name": "stdout",
     "output_type": "stream",
     "text": [
      "Column name: Gender \n",
      " Values: \n",
      " Male      285\n",
      "Female     83\n",
      "Name: Gender, dtype: int64 \n",
      "\n",
      "\n",
      "Column name: Locality \n",
      " Values: \n",
      " URBAN    223\n",
      "RURAL    129\n",
      "NaN       16\n",
      "Name: Locality, dtype: int64 \n",
      "\n",
      "\n",
      "Column name: Maritalstatus \n",
      " Values: \n",
      " MARRIED    365\n",
      "SINGLE       3\n",
      "Name: Maritalstatus, dtype: int64 \n",
      "\n",
      "\n",
      "Column name: LifeStyle \n",
      " Values: \n",
      " YES    213\n",
      "NO     148\n",
      "NaN      7\n",
      "Name: LifeStyle, dtype: int64 \n",
      "\n",
      "\n",
      "Column name: Sleep \n",
      " Values: \n",
      " NO     224\n",
      "YES    144\n",
      "Name: Sleep, dtype: int64 \n",
      "\n",
      "\n",
      "Column name: Category \n",
      " Values: \n",
      " FREE    331\n",
      "PAID     37\n",
      "Name: Category, dtype: int64 \n",
      "\n",
      "\n",
      "Column name: Depression \n",
      " Values: \n",
      " YES    351\n",
      "NO      17\n",
      "Name: Depression, dtype: int64 \n",
      "\n",
      "\n",
      "Column name: Hyperlipi \n",
      " Values: \n",
      " YES    328\n",
      "NO      26\n",
      "NaN     14\n",
      "Name: Hyperlipi, dtype: int64 \n",
      "\n",
      "\n",
      "Column name: Smoking \n",
      " Values: \n",
      " YES    190\n",
      "NO     164\n",
      "NaN     14\n",
      "Name: Smoking, dtype: int64 \n",
      "\n",
      "\n",
      "Column name: FHistory \n",
      " Values: \n",
      " 0    296\n",
      "1     72\n",
      "Name: FHistory, dtype: int64 \n",
      "\n",
      "\n",
      "Column name: Diabetes \n",
      " Values: \n",
      " 0    198\n",
      "1    170\n",
      "Name: Diabetes, dtype: int64 \n",
      "\n",
      "\n",
      "Column name: HTN \n",
      " Values: \n",
      " YES    201\n",
      "NO     167\n",
      "Name: HTN, dtype: int64 \n",
      "\n",
      "\n",
      "Column name: Allergies \n",
      " Values: \n",
      " NO     357\n",
      "YES     11\n",
      "Name: Allergies, dtype: int64 \n",
      "\n",
      "\n",
      "Column name: Thrombolysis \n",
      " Values: \n",
      " 0.0    327\n",
      "NaN     29\n",
      "1.0     12\n",
      "Name: Thrombolysis, dtype: int64 \n",
      "\n",
      "\n",
      "Column name: Hypersensitivity \n",
      " Values: \n",
      " NO     356\n",
      "YES     12\n",
      "Name: Hypersensitivity, dtype: int64 \n",
      "\n",
      "\n",
      "Column name: fbs \n",
      " Values: \n",
      " 0    316\n",
      "1     52\n",
      "Name: fbs, dtype: int64 \n",
      "\n",
      "\n",
      "Column name: exang \n",
      " Values: \n",
      " 1    207\n",
      "0    161\n",
      "Name: exang, dtype: int64 \n",
      "\n",
      "\n",
      "Column name: SK \n",
      " Values: \n",
      " 1    362\n",
      "0      6\n",
      "Name: SK, dtype: int64 \n",
      "\n",
      "\n",
      "Column name: Reaction \n",
      " Values: \n",
      " 1    275\n",
      "0     93\n",
      "Name: Reaction, dtype: int64 \n",
      "\n",
      "\n",
      "Column name: Mortality \n",
      " Values: \n",
      " 0    288\n",
      "1     80\n",
      "Name: Mortality, dtype: int64 \n",
      "\n",
      "\n"
     ]
    }
   ],
   "source": [
    "for i in two_val_list:\n",
    "    print(f'Column name: {i} \\n Values: \\n {df[i].value_counts(dropna=False)} \\n\\n')"
   ]
  },
  {
   "cell_type": "code",
   "execution_count": 22,
   "id": "2c05de04",
   "metadata": {},
   "outputs": [],
   "source": [
    "df['Gender'] = df['Gender'].map({'Female':1, 'Male':0})"
   ]
  },
  {
   "cell_type": "code",
   "execution_count": 23,
   "id": "eb627df0",
   "metadata": {},
   "outputs": [
    {
     "data": {
      "text/plain": [
       "0     NaN\n",
       "1     NaN\n",
       "2     NaN\n",
       "3     NaN\n",
       "4     NaN\n",
       "       ..\n",
       "363   NaN\n",
       "364   NaN\n",
       "365   NaN\n",
       "366   NaN\n",
       "367   NaN\n",
       "Name: Gender, Length: 368, dtype: float64"
      ]
     },
     "execution_count": 23,
     "metadata": {},
     "output_type": "execute_result"
    }
   ],
   "source": [
    "df['Gender']"
   ]
  },
  {
   "cell_type": "code",
   "execution_count": 16,
   "id": "11ddefe5",
   "metadata": {},
   "outputs": [
    {
     "data": {
      "text/plain": [
       "['Gender',\n",
       " 'Locality',\n",
       " 'Maritalstatus',\n",
       " 'LifeStyle',\n",
       " 'Sleep',\n",
       " 'Category',\n",
       " 'Depression',\n",
       " 'Hyperlipi',\n",
       " 'Smoking',\n",
       " 'FHistory',\n",
       " 'Diabetes',\n",
       " 'HTN',\n",
       " 'Allergies',\n",
       " 'Thrombolysis',\n",
       " 'Hypersensitivity',\n",
       " 'fbs',\n",
       " 'exang',\n",
       " 'SK',\n",
       " 'Reaction',\n",
       " 'Mortality']"
      ]
     },
     "execution_count": 16,
     "metadata": {},
     "output_type": "execute_result"
    }
   ],
   "source": [
    "two_val_list"
   ]
  },
  {
   "cell_type": "code",
   "execution_count": 17,
   "id": "4497be21",
   "metadata": {},
   "outputs": [
    {
     "ename": "SyntaxError",
     "evalue": "unexpected EOF while parsing (2709600295.py, line 19)",
     "output_type": "error",
     "traceback": [
      "\u001b[0;36m  Input \u001b[0;32mIn [17]\u001b[0;36m\u001b[0m\n\u001b[0;31m    'Reaction',\u001b[0m\n\u001b[0m               ^\u001b[0m\n\u001b[0;31mSyntaxError\u001b[0m\u001b[0;31m:\u001b[0m unexpected EOF while parsing\n"
     ]
    }
   ],
   "source": [
    "['-',\n",
    " 'Locality',\n",
    " 'Maritalstatus',\n",
    " 'LifeStyle',\n",
    " 'Sleep',\n",
    " 'Category',\n",
    " 'Depression',\n",
    " 'Hyperlipi',\n",
    " 'Smoking',\n",
    " 'FHistory',\n",
    " 'Diabetes',\n",
    " 'HTN',\n",
    " 'Allergies',\n",
    " 'Thrombolysis',\n",
    " 'Hypersensitivity',\n",
    " 'fbs',\n",
    " 'exang',\n",
    " 'SK',\n",
    " 'Reaction',"
   ]
  },
  {
   "cell_type": "code",
   "execution_count": null,
   "id": "a46a7e85",
   "metadata": {},
   "outputs": [],
   "source": [
    "# df['Locality'] = df['Locality'].map({'URBAN':1, 'RURAL':0})"
   ]
  },
  {
   "cell_type": "code",
   "execution_count": null,
   "id": "ce5baf5c",
   "metadata": {},
   "outputs": [],
   "source": [
    "#when we have Nan value wer cannot transder to 1 adn 0\n"
   ]
  },
  {
   "cell_type": "code",
   "execution_count": 18,
   "id": "207f55db",
   "metadata": {
    "scrolled": true
   },
   "outputs": [
    {
     "name": "stdout",
     "output_type": "stream",
     "text": [
      "Age                   0\n",
      "AgeGroup              0\n",
      "Gender                0\n",
      "Locality             16\n",
      "Maritalstatus         0\n",
      "LifeStyle             7\n",
      "Sleep                 0\n",
      "Category              0\n",
      "Depression            0\n",
      "Hyperlipi            14\n",
      "Smoking              14\n",
      "FHistory              0\n",
      "Diabetes              0\n",
      "HTN                   0\n",
      "Allergies             0\n",
      "BP                   64\n",
      "Thrombolysis         29\n",
      "BGR                   0\n",
      "BUrea                 0\n",
      "SCr                   0\n",
      "SSodium               0\n",
      "SPotassium            0\n",
      "SChloride             0\n",
      "CPK                  10\n",
      "CKMB                 10\n",
      "ESR                  10\n",
      "WBC                  32\n",
      "RBC                  19\n",
      "Hemoglobin           19\n",
      "PCV                   9\n",
      "MCV                   0\n",
      "MCH                   0\n",
      "MCHC                  0\n",
      "PLATELET_COUNT        3\n",
      "NEUTROPHIL            0\n",
      "LYMPHO                0\n",
      "MONOCYTE              0\n",
      "EOSINO                1\n",
      "Others                1\n",
      "CO                    0\n",
      "Diagnosis           192\n",
      "Hypersensitivity      0\n",
      "cp                    0\n",
      "trestbps             27\n",
      "chol                  0\n",
      "fbs                   0\n",
      "restecg               0\n",
      "thalach               0\n",
      "exang                 0\n",
      "oldpeak               0\n",
      "slope                 0\n",
      "ca                    0\n",
      "thal                  0\n",
      "num                  26\n",
      "SK                    0\n",
      "SKReact               0\n",
      "Reaction              0\n",
      "Mortality             0\n",
      "FollowUp             15\n",
      "dtype: int64\n"
     ]
    }
   ],
   "source": [
    "#count the missing value\n",
    "print(df.isna().sum())"
   ]
  },
  {
   "cell_type": "code",
   "execution_count": 26,
   "id": "3a52bdb0",
   "metadata": {},
   "outputs": [],
   "source": [
    "null_list = df.columns[df.isna().any()].tolist()"
   ]
  },
  {
   "cell_type": "code",
   "execution_count": 27,
   "id": "924bf5b0",
   "metadata": {},
   "outputs": [
    {
     "data": {
      "text/plain": [
       "['Gender',\n",
       " 'Locality',\n",
       " 'LifeStyle',\n",
       " 'Hyperlipi',\n",
       " 'Smoking',\n",
       " 'BP',\n",
       " 'Thrombolysis',\n",
       " 'CPK',\n",
       " 'CKMB',\n",
       " 'ESR',\n",
       " 'WBC',\n",
       " 'RBC',\n",
       " 'Hemoglobin',\n",
       " 'PCV',\n",
       " 'PLATELET_COUNT',\n",
       " 'EOSINO',\n",
       " 'Others',\n",
       " 'Diagnosis',\n",
       " 'trestbps',\n",
       " 'num',\n",
       " 'FollowUp']"
      ]
     },
     "execution_count": 27,
     "metadata": {},
     "output_type": "execute_result"
    }
   ],
   "source": [
    "null_list"
   ]
  },
  {
   "cell_type": "code",
   "execution_count": 30,
   "id": "e18817c6",
   "metadata": {},
   "outputs": [],
   "source": [
    "null_cat_list = []\n",
    "\n",
    "for i in null_list:\n",
    "    if df[i].dtypes == 'object':\n",
    "        null_cat_list.append(i)"
   ]
  },
  {
   "cell_type": "code",
   "execution_count": 31,
   "id": "20efb1ed",
   "metadata": {},
   "outputs": [
    {
     "data": {
      "text/plain": [
       "['Locality', 'LifeStyle', 'Hyperlipi', 'Smoking', 'Others', 'Diagnosis']"
      ]
     },
     "execution_count": 31,
     "metadata": {},
     "output_type": "execute_result"
    }
   ],
   "source": [
    "null_cat_list"
   ]
  },
  {
   "cell_type": "code",
   "execution_count": 32,
   "id": "4f1f4577",
   "metadata": {},
   "outputs": [],
   "source": [
    "from sklearn.impute import SimpleImputer"
   ]
  },
  {
   "cell_type": "code",
   "execution_count": 36,
   "id": "41d181f8",
   "metadata": {},
   "outputs": [],
   "source": [
    "def categorical_imputer (data_table, col):\n",
    "\n",
    "    #Impute null values in categorical variable with the most frequently observed value\n",
    "    \n",
    "    #input parameter:\n",
    "    #data_table: dataframe\n",
    "    #col: object column with null value\n",
    "    \n",
    "    \n",
    "    imputer = SimpleImputer(strategy = 'most_frequent', missing_values=np.nan)\n",
    "    data_table[col] = imputer.fit_transform(df[[col]])\n",
    "    \n",
    "    "
   ]
  },
  {
   "cell_type": "code",
   "execution_count": 40,
   "id": "716d3cf6",
   "metadata": {},
   "outputs": [],
   "source": [
    "for i in null_cat_list:\n",
    "    df[i] = categorical_imputer(df, i)"
   ]
  },
  {
   "cell_type": "code",
   "execution_count": 43,
   "id": "04b5ffe2",
   "metadata": {},
   "outputs": [
    {
     "data": {
      "text/html": [
       "<div>\n",
       "<style scoped>\n",
       "    .dataframe tbody tr th:only-of-type {\n",
       "        vertical-align: middle;\n",
       "    }\n",
       "\n",
       "    .dataframe tbody tr th {\n",
       "        vertical-align: top;\n",
       "    }\n",
       "\n",
       "    .dataframe thead th {\n",
       "        text-align: right;\n",
       "    }\n",
       "</style>\n",
       "<table border=\"1\" class=\"dataframe\">\n",
       "  <thead>\n",
       "    <tr style=\"text-align: right;\">\n",
       "      <th></th>\n",
       "      <th>Age</th>\n",
       "      <th>AgeGroup</th>\n",
       "      <th>Gender</th>\n",
       "      <th>Locality</th>\n",
       "      <th>Maritalstatus</th>\n",
       "      <th>LifeStyle</th>\n",
       "      <th>Sleep</th>\n",
       "      <th>Category</th>\n",
       "      <th>Depression</th>\n",
       "      <th>Hyperlipi</th>\n",
       "      <th>...</th>\n",
       "      <th>oldpeak</th>\n",
       "      <th>slope</th>\n",
       "      <th>ca</th>\n",
       "      <th>thal</th>\n",
       "      <th>num</th>\n",
       "      <th>SK</th>\n",
       "      <th>SKReact</th>\n",
       "      <th>Reaction</th>\n",
       "      <th>Mortality</th>\n",
       "      <th>FollowUp</th>\n",
       "    </tr>\n",
       "  </thead>\n",
       "  <tbody>\n",
       "    <tr>\n",
       "      <th>0</th>\n",
       "      <td>24</td>\n",
       "      <td>21-30</td>\n",
       "      <td>NaN</td>\n",
       "      <td>None</td>\n",
       "      <td>MARRIED</td>\n",
       "      <td>None</td>\n",
       "      <td>NO</td>\n",
       "      <td>FREE</td>\n",
       "      <td>NO</td>\n",
       "      <td>None</td>\n",
       "      <td>...</td>\n",
       "      <td>1.6</td>\n",
       "      <td>2</td>\n",
       "      <td>0</td>\n",
       "      <td>7</td>\n",
       "      <td>1.0</td>\n",
       "      <td>1</td>\n",
       "      <td>NO</td>\n",
       "      <td>0</td>\n",
       "      <td>0</td>\n",
       "      <td>1.0</td>\n",
       "    </tr>\n",
       "    <tr>\n",
       "      <th>1</th>\n",
       "      <td>24</td>\n",
       "      <td>21-30</td>\n",
       "      <td>NaN</td>\n",
       "      <td>None</td>\n",
       "      <td>MARRIED</td>\n",
       "      <td>None</td>\n",
       "      <td>YES</td>\n",
       "      <td>FREE</td>\n",
       "      <td>YES</td>\n",
       "      <td>None</td>\n",
       "      <td>...</td>\n",
       "      <td>1.6</td>\n",
       "      <td>2</td>\n",
       "      <td>0</td>\n",
       "      <td>7</td>\n",
       "      <td>1.0</td>\n",
       "      <td>1</td>\n",
       "      <td>COUGH.BLEEDING</td>\n",
       "      <td>1</td>\n",
       "      <td>0</td>\n",
       "      <td>5.0</td>\n",
       "    </tr>\n",
       "    <tr>\n",
       "      <th>2</th>\n",
       "      <td>24</td>\n",
       "      <td>21-30</td>\n",
       "      <td>NaN</td>\n",
       "      <td>None</td>\n",
       "      <td>MARRIED</td>\n",
       "      <td>None</td>\n",
       "      <td>YES</td>\n",
       "      <td>FREE</td>\n",
       "      <td>YES</td>\n",
       "      <td>None</td>\n",
       "      <td>...</td>\n",
       "      <td>1.6</td>\n",
       "      <td>2</td>\n",
       "      <td>0</td>\n",
       "      <td>7</td>\n",
       "      <td>1.0</td>\n",
       "      <td>1</td>\n",
       "      <td>COUGH.BLEEDING</td>\n",
       "      <td>1</td>\n",
       "      <td>0</td>\n",
       "      <td>5.0</td>\n",
       "    </tr>\n",
       "    <tr>\n",
       "      <th>3</th>\n",
       "      <td>24</td>\n",
       "      <td>21-30</td>\n",
       "      <td>NaN</td>\n",
       "      <td>None</td>\n",
       "      <td>MARRIED</td>\n",
       "      <td>None</td>\n",
       "      <td>YES</td>\n",
       "      <td>FREE</td>\n",
       "      <td>YES</td>\n",
       "      <td>None</td>\n",
       "      <td>...</td>\n",
       "      <td>1.6</td>\n",
       "      <td>2</td>\n",
       "      <td>0</td>\n",
       "      <td>7</td>\n",
       "      <td>1.0</td>\n",
       "      <td>1</td>\n",
       "      <td>COUGH.BLEEDING</td>\n",
       "      <td>1</td>\n",
       "      <td>0</td>\n",
       "      <td>5.0</td>\n",
       "    </tr>\n",
       "    <tr>\n",
       "      <th>4</th>\n",
       "      <td>24</td>\n",
       "      <td>21-30</td>\n",
       "      <td>NaN</td>\n",
       "      <td>None</td>\n",
       "      <td>MARRIED</td>\n",
       "      <td>None</td>\n",
       "      <td>YES</td>\n",
       "      <td>FREE</td>\n",
       "      <td>YES</td>\n",
       "      <td>None</td>\n",
       "      <td>...</td>\n",
       "      <td>1.6</td>\n",
       "      <td>2</td>\n",
       "      <td>0</td>\n",
       "      <td>7</td>\n",
       "      <td>1.0</td>\n",
       "      <td>1</td>\n",
       "      <td>COUGH.BLEEDING</td>\n",
       "      <td>1</td>\n",
       "      <td>0</td>\n",
       "      <td>5.0</td>\n",
       "    </tr>\n",
       "  </tbody>\n",
       "</table>\n",
       "<p>5 rows × 59 columns</p>\n",
       "</div>"
      ],
      "text/plain": [
       "   Age AgeGroup  Gender Locality Maritalstatus LifeStyle Sleep Category  \\\n",
       "0   24    21-30     NaN     None       MARRIED      None    NO     FREE   \n",
       "1   24    21-30     NaN     None       MARRIED      None   YES     FREE   \n",
       "2   24    21-30     NaN     None       MARRIED      None   YES     FREE   \n",
       "3   24    21-30     NaN     None       MARRIED      None   YES     FREE   \n",
       "4   24    21-30     NaN     None       MARRIED      None   YES     FREE   \n",
       "\n",
       "  Depression Hyperlipi  ... oldpeak  slope  ca thal  num  SK         SKReact  \\\n",
       "0         NO      None  ...     1.6      2   0    7  1.0   1              NO   \n",
       "1        YES      None  ...     1.6      2   0    7  1.0   1  COUGH.BLEEDING   \n",
       "2        YES      None  ...     1.6      2   0    7  1.0   1  COUGH.BLEEDING   \n",
       "3        YES      None  ...     1.6      2   0    7  1.0   1  COUGH.BLEEDING   \n",
       "4        YES      None  ...     1.6      2   0    7  1.0   1  COUGH.BLEEDING   \n",
       "\n",
       "   Reaction  Mortality  FollowUp  \n",
       "0         0          0       1.0  \n",
       "1         1          0       5.0  \n",
       "2         1          0       5.0  \n",
       "3         1          0       5.0  \n",
       "4         1          0       5.0  \n",
       "\n",
       "[5 rows x 59 columns]"
      ]
     },
     "execution_count": 43,
     "metadata": {},
     "output_type": "execute_result"
    }
   ],
   "source": [
    "df.head()"
   ]
  },
  {
   "cell_type": "code",
   "execution_count": 38,
   "id": "391b671a",
   "metadata": {},
   "outputs": [
    {
     "data": {
      "text/plain": [
       "0      110.7\n",
       "1        NaN\n",
       "2      130.8\n",
       "3      130.8\n",
       "4      130.8\n",
       "       ...  \n",
       "363    100.7\n",
       "364    130.8\n",
       "365    120.8\n",
       "366    100.6\n",
       "367    110.7\n",
       "Name: BP, Length: 368, dtype: float64"
      ]
     },
     "execution_count": 38,
     "metadata": {},
     "output_type": "execute_result"
    }
   ],
   "source": [
    "df['BP']"
   ]
  },
  {
   "cell_type": "code",
   "execution_count": 39,
   "id": "22b11e01",
   "metadata": {},
   "outputs": [
    {
     "data": {
      "text/html": [
       "<div>\n",
       "<style scoped>\n",
       "    .dataframe tbody tr th:only-of-type {\n",
       "        vertical-align: middle;\n",
       "    }\n",
       "\n",
       "    .dataframe tbody tr th {\n",
       "        vertical-align: top;\n",
       "    }\n",
       "\n",
       "    .dataframe thead th {\n",
       "        text-align: right;\n",
       "    }\n",
       "</style>\n",
       "<table border=\"1\" class=\"dataframe\">\n",
       "  <thead>\n",
       "    <tr style=\"text-align: right;\">\n",
       "      <th></th>\n",
       "      <th>BP</th>\n",
       "    </tr>\n",
       "  </thead>\n",
       "  <tbody>\n",
       "    <tr>\n",
       "      <th>0</th>\n",
       "      <td>110.7</td>\n",
       "    </tr>\n",
       "    <tr>\n",
       "      <th>1</th>\n",
       "      <td>NaN</td>\n",
       "    </tr>\n",
       "    <tr>\n",
       "      <th>2</th>\n",
       "      <td>130.8</td>\n",
       "    </tr>\n",
       "    <tr>\n",
       "      <th>3</th>\n",
       "      <td>130.8</td>\n",
       "    </tr>\n",
       "    <tr>\n",
       "      <th>4</th>\n",
       "      <td>130.8</td>\n",
       "    </tr>\n",
       "    <tr>\n",
       "      <th>...</th>\n",
       "      <td>...</td>\n",
       "    </tr>\n",
       "    <tr>\n",
       "      <th>363</th>\n",
       "      <td>100.7</td>\n",
       "    </tr>\n",
       "    <tr>\n",
       "      <th>364</th>\n",
       "      <td>130.8</td>\n",
       "    </tr>\n",
       "    <tr>\n",
       "      <th>365</th>\n",
       "      <td>120.8</td>\n",
       "    </tr>\n",
       "    <tr>\n",
       "      <th>366</th>\n",
       "      <td>100.6</td>\n",
       "    </tr>\n",
       "    <tr>\n",
       "      <th>367</th>\n",
       "      <td>110.7</td>\n",
       "    </tr>\n",
       "  </tbody>\n",
       "</table>\n",
       "<p>368 rows × 1 columns</p>\n",
       "</div>"
      ],
      "text/plain": [
       "        BP\n",
       "0    110.7\n",
       "1      NaN\n",
       "2    130.8\n",
       "3    130.8\n",
       "4    130.8\n",
       "..     ...\n",
       "363  100.7\n",
       "364  130.8\n",
       "365  120.8\n",
       "366  100.6\n",
       "367  110.7\n",
       "\n",
       "[368 rows x 1 columns]"
      ]
     },
     "execution_count": 39,
     "metadata": {},
     "output_type": "execute_result"
    }
   ],
   "source": [
    "df[['BP']]"
   ]
  },
  {
   "cell_type": "markdown",
   "id": "6e1e7a2f",
   "metadata": {},
   "source": [
    "#nuerical mean? median? HW\n",
    "1. create list of \n",
    "    a. missing value, normal distribution(with histogram), numerical columns\n",
    "    b. missing value, not normal distribution, numerical columns\n",
    "2. create imputer function \n",
    "    a.normal - stratdgy = 'mean'\n",
    "    b.not normal - strategy = 'median'\n",
    "3. check null values\n",
    "\n",
    "4. yes no vaue -> 1 or 0 transform"
   ]
  },
  {
   "cell_type": "code",
   "execution_count": null,
   "id": "5aae39b6",
   "metadata": {},
   "outputs": [],
   "source": []
  }
 ],
 "metadata": {
  "kernelspec": {
   "display_name": "Python 3 (ipykernel)",
   "language": "python",
   "name": "python3"
  },
  "language_info": {
   "codemirror_mode": {
    "name": "ipython",
    "version": 3
   },
   "file_extension": ".py",
   "mimetype": "text/x-python",
   "name": "python",
   "nbconvert_exporter": "python",
   "pygments_lexer": "ipython3",
   "version": "3.9.12"
  }
 },
 "nbformat": 4,
 "nbformat_minor": 5
}
