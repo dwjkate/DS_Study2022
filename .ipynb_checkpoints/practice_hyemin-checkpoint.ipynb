{
 "cells": [
  {
   "cell_type": "code",
   "execution_count": 630,
   "id": "512b634d",
   "metadata": {},
   "outputs": [],
   "source": [
    "import numpy as np\n",
    "import seaborn as sns\n",
    "import pandas as pd\n",
    "import missingno as msno\n",
    "import matplotlib.pyplot as plt\n",
    "%matplotlib inline\n",
    "import pandas as pd\n",
    "from sklearn.impute import SimpleImputer"
   ]
  },
  {
   "cell_type": "code",
   "execution_count": 631,
   "id": "eeda0820",
   "metadata": {},
   "outputs": [],
   "source": [
    "df = pd.read_csv(\"Data/The Heart Failure Prediction Dataset.csv\")"
   ]
  },
  {
   "cell_type": "code",
   "execution_count": 632,
   "id": "c44da00c",
   "metadata": {},
   "outputs": [
    {
     "data": {
      "text/html": [
       "<div>\n",
       "<style scoped>\n",
       "    .dataframe tbody tr th:only-of-type {\n",
       "        vertical-align: middle;\n",
       "    }\n",
       "\n",
       "    .dataframe tbody tr th {\n",
       "        vertical-align: top;\n",
       "    }\n",
       "\n",
       "    .dataframe thead th {\n",
       "        text-align: right;\n",
       "    }\n",
       "</style>\n",
       "<table border=\"1\" class=\"dataframe\">\n",
       "  <thead>\n",
       "    <tr style=\"text-align: right;\">\n",
       "      <th></th>\n",
       "      <th>Age</th>\n",
       "      <th>Age.Group</th>\n",
       "      <th>Gender</th>\n",
       "      <th>Locality</th>\n",
       "      <th>Marital status</th>\n",
       "      <th>Life.Style</th>\n",
       "      <th>Sleep</th>\n",
       "      <th>Category</th>\n",
       "      <th>Depression</th>\n",
       "      <th>Hyperlipi</th>\n",
       "      <th>...</th>\n",
       "      <th>oldpeak</th>\n",
       "      <th>slope</th>\n",
       "      <th>ca</th>\n",
       "      <th>thal</th>\n",
       "      <th>num</th>\n",
       "      <th>SK</th>\n",
       "      <th>SK.React</th>\n",
       "      <th>Reaction</th>\n",
       "      <th>Mortality</th>\n",
       "      <th>Follow.Up</th>\n",
       "    </tr>\n",
       "  </thead>\n",
       "  <tbody>\n",
       "    <tr>\n",
       "      <th>0</th>\n",
       "      <td>24</td>\n",
       "      <td>21-30</td>\n",
       "      <td>Female</td>\n",
       "      <td>URBAN</td>\n",
       "      <td>MARRIED</td>\n",
       "      <td>NO</td>\n",
       "      <td>NO</td>\n",
       "      <td>FREE</td>\n",
       "      <td>NO</td>\n",
       "      <td>YES</td>\n",
       "      <td>...</td>\n",
       "      <td>1.6</td>\n",
       "      <td>2</td>\n",
       "      <td>0</td>\n",
       "      <td>7</td>\n",
       "      <td>1.0</td>\n",
       "      <td>1</td>\n",
       "      <td>NO</td>\n",
       "      <td>0</td>\n",
       "      <td>0</td>\n",
       "      <td>1.0</td>\n",
       "    </tr>\n",
       "    <tr>\n",
       "      <th>1</th>\n",
       "      <td>24</td>\n",
       "      <td>21-30</td>\n",
       "      <td>Male</td>\n",
       "      <td>URBAN</td>\n",
       "      <td>MARRIED</td>\n",
       "      <td>YES</td>\n",
       "      <td>YES</td>\n",
       "      <td>FREE</td>\n",
       "      <td>YES</td>\n",
       "      <td>YES</td>\n",
       "      <td>...</td>\n",
       "      <td>1.6</td>\n",
       "      <td>2</td>\n",
       "      <td>0</td>\n",
       "      <td>7</td>\n",
       "      <td>1.0</td>\n",
       "      <td>1</td>\n",
       "      <td>COUGH.BLEEDING</td>\n",
       "      <td>1</td>\n",
       "      <td>0</td>\n",
       "      <td>5.0</td>\n",
       "    </tr>\n",
       "    <tr>\n",
       "      <th>2</th>\n",
       "      <td>24</td>\n",
       "      <td>21-30</td>\n",
       "      <td>Male</td>\n",
       "      <td>URBAN</td>\n",
       "      <td>MARRIED</td>\n",
       "      <td>YES</td>\n",
       "      <td>YES</td>\n",
       "      <td>FREE</td>\n",
       "      <td>YES</td>\n",
       "      <td>YES</td>\n",
       "      <td>...</td>\n",
       "      <td>1.6</td>\n",
       "      <td>2</td>\n",
       "      <td>0</td>\n",
       "      <td>7</td>\n",
       "      <td>1.0</td>\n",
       "      <td>1</td>\n",
       "      <td>COUGH.BLEEDING</td>\n",
       "      <td>1</td>\n",
       "      <td>0</td>\n",
       "      <td>5.0</td>\n",
       "    </tr>\n",
       "    <tr>\n",
       "      <th>3</th>\n",
       "      <td>24</td>\n",
       "      <td>21-30</td>\n",
       "      <td>Male</td>\n",
       "      <td>URBAN</td>\n",
       "      <td>MARRIED</td>\n",
       "      <td>YES</td>\n",
       "      <td>YES</td>\n",
       "      <td>FREE</td>\n",
       "      <td>YES</td>\n",
       "      <td>YES</td>\n",
       "      <td>...</td>\n",
       "      <td>1.6</td>\n",
       "      <td>2</td>\n",
       "      <td>0</td>\n",
       "      <td>7</td>\n",
       "      <td>1.0</td>\n",
       "      <td>1</td>\n",
       "      <td>COUGH.BLEEDING</td>\n",
       "      <td>1</td>\n",
       "      <td>0</td>\n",
       "      <td>5.0</td>\n",
       "    </tr>\n",
       "    <tr>\n",
       "      <th>4</th>\n",
       "      <td>24</td>\n",
       "      <td>21-30</td>\n",
       "      <td>Male</td>\n",
       "      <td>URBAN</td>\n",
       "      <td>MARRIED</td>\n",
       "      <td>YES</td>\n",
       "      <td>YES</td>\n",
       "      <td>FREE</td>\n",
       "      <td>YES</td>\n",
       "      <td>YES</td>\n",
       "      <td>...</td>\n",
       "      <td>1.6</td>\n",
       "      <td>2</td>\n",
       "      <td>0</td>\n",
       "      <td>7</td>\n",
       "      <td>1.0</td>\n",
       "      <td>1</td>\n",
       "      <td>COUGH.BLEEDING</td>\n",
       "      <td>1</td>\n",
       "      <td>0</td>\n",
       "      <td>5.0</td>\n",
       "    </tr>\n",
       "  </tbody>\n",
       "</table>\n",
       "<p>5 rows × 60 columns</p>\n",
       "</div>"
      ],
      "text/plain": [
       "   Age Age.Group  Gender Locality   Marital status                         \\\n",
       "0   24     21-30  Female      URBAN                               MARRIED   \n",
       "1   24     21-30    Male      URBAN                               MARRIED   \n",
       "2   24     21-30    Male      URBAN                               MARRIED   \n",
       "3   24     21-30    Male      URBAN                               MARRIED   \n",
       "4   24     21-30    Male      URBAN                               MARRIED   \n",
       "\n",
       "  Life.Style                                                                                \\\n",
       "0                                                 NO                                         \n",
       "1                                                YES                                         \n",
       "2                                                YES                                         \n",
       "3                                                YES                                         \n",
       "4                                                YES                                         \n",
       "\n",
       "  Sleep Category Depression Hyperlipi  ... oldpeak slope  ca  thal  num SK  \\\n",
       "0    NO     FREE         NO       YES  ...     1.6     2   0     7  1.0  1   \n",
       "1   YES     FREE        YES       YES  ...     1.6     2   0     7  1.0  1   \n",
       "2   YES     FREE        YES       YES  ...     1.6     2   0     7  1.0  1   \n",
       "3   YES     FREE        YES       YES  ...     1.6     2   0     7  1.0  1   \n",
       "4   YES     FREE        YES       YES  ...     1.6     2   0     7  1.0  1   \n",
       "\n",
       "         SK.React  Reaction  Mortality  Follow.Up  \n",
       "0              NO         0          0        1.0  \n",
       "1  COUGH.BLEEDING         1          0        5.0  \n",
       "2  COUGH.BLEEDING         1          0        5.0  \n",
       "3  COUGH.BLEEDING         1          0        5.0  \n",
       "4  COUGH.BLEEDING         1          0        5.0  \n",
       "\n",
       "[5 rows x 60 columns]"
      ]
     },
     "execution_count": 632,
     "metadata": {},
     "output_type": "execute_result"
    }
   ],
   "source": [
    "df.head()"
   ]
  },
  {
   "cell_type": "code",
   "execution_count": 633,
   "id": "553078c7",
   "metadata": {},
   "outputs": [
    {
     "data": {
      "text/html": [
       "<div>\n",
       "<style scoped>\n",
       "    .dataframe tbody tr th:only-of-type {\n",
       "        vertical-align: middle;\n",
       "    }\n",
       "\n",
       "    .dataframe tbody tr th {\n",
       "        vertical-align: top;\n",
       "    }\n",
       "\n",
       "    .dataframe thead th {\n",
       "        text-align: right;\n",
       "    }\n",
       "</style>\n",
       "<table border=\"1\" class=\"dataframe\">\n",
       "  <thead>\n",
       "    <tr style=\"text-align: right;\">\n",
       "      <th></th>\n",
       "      <th>Age.Group</th>\n",
       "      <th>Gender</th>\n",
       "      <th>Locality</th>\n",
       "      <th>Marital status</th>\n",
       "      <th>Life.Style</th>\n",
       "      <th>Sleep</th>\n",
       "      <th>Category</th>\n",
       "      <th>Depression</th>\n",
       "      <th>Hyperlipi</th>\n",
       "      <th>Smoking</th>\n",
       "      <th>Family.History</th>\n",
       "      <th>HTN</th>\n",
       "      <th>Allergies</th>\n",
       "      <th>Others</th>\n",
       "      <th>CO</th>\n",
       "      <th>Diagnosis</th>\n",
       "      <th>Hypersensitivity</th>\n",
       "      <th>SK.React</th>\n",
       "    </tr>\n",
       "  </thead>\n",
       "  <tbody>\n",
       "    <tr>\n",
       "      <th>count</th>\n",
       "      <td>368</td>\n",
       "      <td>368</td>\n",
       "      <td>352</td>\n",
       "      <td>368</td>\n",
       "      <td>361</td>\n",
       "      <td>368</td>\n",
       "      <td>368</td>\n",
       "      <td>368</td>\n",
       "      <td>354</td>\n",
       "      <td>354</td>\n",
       "      <td>368</td>\n",
       "      <td>368</td>\n",
       "      <td>368</td>\n",
       "      <td>367</td>\n",
       "      <td>368</td>\n",
       "      <td>176</td>\n",
       "      <td>368</td>\n",
       "      <td>368</td>\n",
       "    </tr>\n",
       "    <tr>\n",
       "      <th>unique</th>\n",
       "      <td>5</td>\n",
       "      <td>2</td>\n",
       "      <td>2</td>\n",
       "      <td>2</td>\n",
       "      <td>2</td>\n",
       "      <td>2</td>\n",
       "      <td>2</td>\n",
       "      <td>2</td>\n",
       "      <td>2</td>\n",
       "      <td>2</td>\n",
       "      <td>2</td>\n",
       "      <td>2</td>\n",
       "      <td>2</td>\n",
       "      <td>17</td>\n",
       "      <td>37</td>\n",
       "      <td>37</td>\n",
       "      <td>2</td>\n",
       "      <td>7</td>\n",
       "    </tr>\n",
       "    <tr>\n",
       "      <th>top</th>\n",
       "      <td>51-60</td>\n",
       "      <td>Male</td>\n",
       "      <td>URBAN</td>\n",
       "      <td>MARRIED</td>\n",
       "      <td>YES</td>\n",
       "      <td>NO</td>\n",
       "      <td>FREE</td>\n",
       "      <td>YES</td>\n",
       "      <td>YES</td>\n",
       "      <td>YES</td>\n",
       "      <td>NO</td>\n",
       "      <td>YES</td>\n",
       "      <td>NO</td>\n",
       "      <td>no</td>\n",
       "      <td>Chest pain,</td>\n",
       "      <td>AC I/W M.I</td>\n",
       "      <td>NO</td>\n",
       "      <td>COUGH.BLEEDING</td>\n",
       "    </tr>\n",
       "    <tr>\n",
       "      <th>freq</th>\n",
       "      <td>184</td>\n",
       "      <td>285</td>\n",
       "      <td>223</td>\n",
       "      <td>365</td>\n",
       "      <td>213</td>\n",
       "      <td>224</td>\n",
       "      <td>331</td>\n",
       "      <td>351</td>\n",
       "      <td>328</td>\n",
       "      <td>190</td>\n",
       "      <td>296</td>\n",
       "      <td>201</td>\n",
       "      <td>357</td>\n",
       "      <td>200</td>\n",
       "      <td>84</td>\n",
       "      <td>18</td>\n",
       "      <td>356</td>\n",
       "      <td>146</td>\n",
       "    </tr>\n",
       "  </tbody>\n",
       "</table>\n",
       "</div>"
      ],
      "text/plain": [
       "       Age.Group Gender Locality   Marital status                         \\\n",
       "count        368    368        352                                   368   \n",
       "unique         5      2          2                                     2   \n",
       "top        51-60   Male      URBAN                               MARRIED   \n",
       "freq         184    285        223                                   365   \n",
       "\n",
       "       Life.Style                                                                                \\\n",
       "count                                                 361                                         \n",
       "unique                                                  2                                         \n",
       "top                                                   YES                                         \n",
       "freq                                                  213                                         \n",
       "\n",
       "       Sleep Category Depression Hyperlipi Smoking Family.History  HTN  \\\n",
       "count    368      368        368       354     354            368  368   \n",
       "unique     2        2          2         2       2              2    2   \n",
       "top       NO     FREE        YES       YES     YES             NO  YES   \n",
       "freq     224      331        351       328     190            296  201   \n",
       "\n",
       "       Allergies Others            CO   Diagnosis Hypersensitivity  \\\n",
       "count        368     367          368         176              368   \n",
       "unique         2      17           37          37                2   \n",
       "top           NO      no  Chest pain,  AC I/W M.I               NO   \n",
       "freq         357     200           84          18              356   \n",
       "\n",
       "              SK.React  \n",
       "count              368  \n",
       "unique               7  \n",
       "top     COUGH.BLEEDING  \n",
       "freq               146  "
      ]
     },
     "execution_count": 633,
     "metadata": {},
     "output_type": "execute_result"
    }
   ],
   "source": [
    "#EDA\n",
    "\n",
    "df.describe(include='O')"
   ]
  },
  {
   "cell_type": "code",
   "execution_count": 634,
   "id": "b4c83f80",
   "metadata": {},
   "outputs": [
    {
     "name": "stdout",
     "output_type": "stream",
     "text": [
      "(368, 60)\n"
     ]
    }
   ],
   "source": [
    "print(df.shape)"
   ]
  },
  {
   "cell_type": "code",
   "execution_count": 635,
   "id": "90784de8",
   "metadata": {},
   "outputs": [
    {
     "name": "stdout",
     "output_type": "stream",
     "text": [
      "<class 'pandas.core.frame.DataFrame'>\n",
      "RangeIndex: 368 entries, 0 to 367\n",
      "Data columns (total 60 columns):\n",
      " #   Column                                                                                    Non-Null Count  Dtype  \n",
      "---  ------                                                                                    --------------  -----  \n",
      " 0   Age                                                                                       368 non-null    int64  \n",
      " 1   Age.Group                                                                                 368 non-null    object \n",
      " 2   Gender                                                                                    368 non-null    object \n",
      " 3   Locality                                                                                  352 non-null    object \n",
      " 4   Marital status                                                                            368 non-null    object \n",
      " 5   Life.Style                                                                                361 non-null    object \n",
      " 6   Sleep                                                                                     368 non-null    object \n",
      " 7   Category                                                                                  368 non-null    object \n",
      " 8   Depression                                                                                368 non-null    object \n",
      " 9   Hyperlipi                                                                                 354 non-null    object \n",
      " 10  Smoking                                                                                   354 non-null    object \n",
      " 11  Family.History                                                                            368 non-null    object \n",
      " 12  F.History                                                                                 368 non-null    int64  \n",
      " 13  Diabetes                                                                                  368 non-null    int64  \n",
      " 14  HTN                                                                                       368 non-null    object \n",
      " 15  Allergies                                                                                 368 non-null    object \n",
      " 16  BP                                                                                        304 non-null    float64\n",
      " 17  Thrombolysis                                                                              339 non-null    float64\n",
      " 18  BGR                                                                                       368 non-null    int64  \n",
      " 19  B.Urea                                                                                    368 non-null    float64\n",
      " 20  S.Cr                                                                                      368 non-null    float64\n",
      " 21  S.Sodium                                                                                  368 non-null    int64  \n",
      " 22  S.Potassium                                                                               368 non-null    float64\n",
      " 23  S.Chloride                                                                                368 non-null    int64  \n",
      " 24  C.P.K                                                                                     358 non-null    float64\n",
      " 25  CK.MB                                                                                     358 non-null    float64\n",
      " 26  ESR                                                                                       358 non-null    float64\n",
      " 27  WBC                                                                                       336 non-null    float64\n",
      " 28  RBC                                                                                       349 non-null    float64\n",
      " 29  Hemoglobin                                                                                349 non-null    float64\n",
      " 30  P.C.V                                                                                     359 non-null    float64\n",
      " 31  M.C.V                                                                                     368 non-null    float64\n",
      " 32  M.C.H                                                                                     368 non-null    float64\n",
      " 33  M.C.H.C                                                                                   368 non-null    float64\n",
      " 34  PLATELET_COUNT                                                                            365 non-null    float64\n",
      " 35  NEUTROPHIL                                                                                368 non-null    float64\n",
      " 36  LYMPHO                                                                                    368 non-null    float64\n",
      " 37  MONOCYTE                                                                                  368 non-null    float64\n",
      " 38  EOSINO                                                                                    367 non-null    float64\n",
      " 39  Others                                                                                    367 non-null    object \n",
      " 40  CO                                                                                        368 non-null    object \n",
      " 41  Diagnosis                                                                                 176 non-null    object \n",
      " 42  Hypersensitivity                                                                          368 non-null    object \n",
      " 43  cp                                                                                        368 non-null    int64  \n",
      " 44  trestbps                                                                                  341 non-null    float64\n",
      " 45  chol                                                                                      368 non-null    int64  \n",
      " 46  fbs                                                                                       368 non-null    int64  \n",
      " 47  restecg                                                                                   368 non-null    int64  \n",
      " 48  thalach                                                                                   368 non-null    int64  \n",
      " 49  exang                                                                                     368 non-null    int64  \n",
      " 50  oldpeak                                                                                   368 non-null    float64\n",
      " 51  slope                                                                                     368 non-null    int64  \n",
      " 52  ca                                                                                        368 non-null    int64  \n",
      " 53  thal                                                                                      368 non-null    int64  \n",
      " 54  num                                                                                       342 non-null    float64\n",
      " 55  SK                                                                                        368 non-null    int64  \n",
      " 56  SK.React                                                                                  368 non-null    object \n",
      " 57  Reaction                                                                                  368 non-null    int64  \n",
      " 58  Mortality                                                                                 368 non-null    int64  \n",
      " 59  Follow.Up                                                                                 353 non-null    float64\n",
      "dtypes: float64(24), int64(18), object(18)\n",
      "memory usage: 172.6+ KB\n"
     ]
    }
   ],
   "source": [
    "df.info()"
   ]
  },
  {
   "cell_type": "code",
   "execution_count": 636,
   "id": "67d48320",
   "metadata": {},
   "outputs": [
    {
     "name": "stdout",
     "output_type": "stream",
     "text": [
      "Age                                                                                           0\n",
      "Age.Group                                                                                     0\n",
      "Gender                                                                                        0\n",
      "Locality                                                                                     16\n",
      "Marital status                                                                                0\n",
      "Life.Style                                                                                    7\n",
      "Sleep                                                                                         0\n",
      "Category                                                                                      0\n",
      "Depression                                                                                    0\n",
      "Hyperlipi                                                                                    14\n",
      "Smoking                                                                                      14\n",
      "Family.History                                                                                0\n",
      "F.History                                                                                     0\n",
      "Diabetes                                                                                      0\n",
      "HTN                                                                                           0\n",
      "Allergies                                                                                     0\n",
      "BP                                                                                           64\n",
      "Thrombolysis                                                                                 29\n",
      "BGR                                                                                           0\n",
      "B.Urea                                                                                        0\n",
      "S.Cr                                                                                          0\n",
      "S.Sodium                                                                                      0\n",
      "S.Potassium                                                                                   0\n",
      "S.Chloride                                                                                    0\n",
      "C.P.K                                                                                        10\n",
      "CK.MB                                                                                        10\n",
      "ESR                                                                                          10\n",
      "WBC                                                                                          32\n",
      "RBC                                                                                          19\n",
      "Hemoglobin                                                                                   19\n",
      "P.C.V                                                                                         9\n",
      "M.C.V                                                                                         0\n",
      "M.C.H                                                                                         0\n",
      "M.C.H.C                                                                                       0\n",
      "PLATELET_COUNT                                                                                3\n",
      "NEUTROPHIL                                                                                    0\n",
      "LYMPHO                                                                                        0\n",
      "MONOCYTE                                                                                      0\n",
      "EOSINO                                                                                        1\n",
      "Others                                                                                        1\n",
      "CO                                                                                            0\n",
      "Diagnosis                                                                                   192\n",
      "Hypersensitivity                                                                              0\n",
      "cp                                                                                            0\n",
      "trestbps                                                                                     27\n",
      "chol                                                                                          0\n",
      "fbs                                                                                           0\n",
      "restecg                                                                                       0\n",
      "thalach                                                                                       0\n",
      "exang                                                                                         0\n",
      "oldpeak                                                                                       0\n",
      "slope                                                                                         0\n",
      "ca                                                                                            0\n",
      "thal                                                                                          0\n",
      "num                                                                                          26\n",
      "SK                                                                                            0\n",
      "SK.React                                                                                      0\n",
      "Reaction                                                                                      0\n",
      "Mortality                                                                                     0\n",
      "Follow.Up                                                                                    15\n",
      "dtype: int64\n"
     ]
    },
    {
     "data": {
      "text/plain": [
       "<AxesSubplot:>"
      ]
     },
     "execution_count": 636,
     "metadata": {},
     "output_type": "execute_result"
    },
    {
     "data": {
      "image/png": "[encoded data removed]",
      "text/plain": [
       "<Figure size 1800x720 with 2 Axes>"
      ]
     },
     "metadata": {
      "needs_background": "light"
     },
     "output_type": "display_data"
    }
   ],
   "source": [
    "# Identify the count of missing values and display it with the matrix\n",
    "print(df.isna().sum())\n",
    "msno.matrix(df)"
   ]
  },
  {
   "cell_type": "code",
   "execution_count": 637,
   "id": "87f1a252",
   "metadata": {},
   "outputs": [
    {
     "name": "stdout",
     "output_type": "stream",
     "text": [
      "Age                                                                                         31\n",
      "Age.Group                                                                                    5\n",
      "Gender                                                                                       2\n",
      "Locality                                                                                     2\n",
      "Marital status                                                                               2\n",
      "Life.Style                                                                                   2\n",
      "Sleep                                                                                        2\n",
      "Category                                                                                     2\n",
      "Depression                                                                                   2\n",
      "Hyperlipi                                                                                    2\n",
      "Smoking                                                                                      2\n",
      "Family.History                                                                               2\n",
      "F.History                                                                                    2\n",
      "Diabetes                                                                                     2\n",
      "HTN                                                                                          2\n",
      "Allergies                                                                                    2\n",
      "BP                                                                                          17\n",
      "Thrombolysis                                                                                 2\n",
      "BGR                                                                                         38\n",
      "B.Urea                                                                                      28\n",
      "S.Cr                                                                                        13\n",
      "S.Sodium                                                                                    17\n",
      "S.Potassium                                                                                 15\n",
      "S.Chloride                                                                                  14\n",
      "C.P.K                                                                                       44\n",
      "CK.MB                                                                                       31\n",
      "ESR                                                                                         22\n",
      "WBC                                                                                         31\n",
      "RBC                                                                                         32\n",
      "Hemoglobin                                                                                  32\n",
      "P.C.V                                                                                       19\n",
      "M.C.V                                                                                       27\n",
      "M.C.H                                                                                       22\n",
      "M.C.H.C                                                                                      8\n",
      "PLATELET_COUNT                                                                              36\n",
      "NEUTROPHIL                                                                                  27\n",
      "LYMPHO                                                                                      24\n",
      "MONOCYTE                                                                                     8\n",
      "EOSINO                                                                                       5\n",
      "Others                                                                                      17\n",
      "CO                                                                                          37\n",
      "Diagnosis                                                                                   37\n",
      "Hypersensitivity                                                                             2\n",
      "cp                                                                                           4\n",
      "trestbps                                                                                    38\n",
      "chol                                                                                        97\n",
      "fbs                                                                                          2\n",
      "restecg                                                                                      3\n",
      "thalach                                                                                     71\n",
      "exang                                                                                        2\n",
      "oldpeak                                                                                     35\n",
      "slope                                                                                        3\n",
      "ca                                                                                           4\n",
      "thal                                                                                         3\n",
      "num                                                                                          4\n",
      "SK                                                                                           2\n",
      "SK.React                                                                                     7\n",
      "Reaction                                                                                     2\n",
      "Mortality                                                                                    2\n",
      "Follow.Up                                                                                   22\n",
      "dtype: int64\n"
     ]
    }
   ],
   "source": [
    "# Display the number of unique values for each column\n",
    "print(df.nunique())"
   ]
  },
  {
   "cell_type": "code",
   "execution_count": 638,
   "id": "ab41427b",
   "metadata": {},
   "outputs": [
    {
     "data": {
      "text/plain": [
       "True"
      ]
     },
     "execution_count": 638,
     "metadata": {},
     "output_type": "execute_result"
    }
   ],
   "source": [
    "df.duplicated().any()"
   ]
  },
  {
   "cell_type": "code",
   "execution_count": 639,
   "id": "087dd551",
   "metadata": {},
   "outputs": [
    {
     "data": {
      "text/plain": [
       "74"
      ]
     },
     "execution_count": 639,
     "metadata": {},
     "output_type": "execute_result"
    }
   ],
   "source": [
    "df.duplicated().sum()"
   ]
  },
  {
   "cell_type": "code",
   "execution_count": 640,
   "id": "455a8dfb",
   "metadata": {},
   "outputs": [],
   "source": [
    "# Remove duplicate rows based on all columns\n",
    "df = df.drop_duplicates()"
   ]
  },
  {
   "cell_type": "code",
   "execution_count": 641,
   "id": "480cebd2",
   "metadata": {},
   "outputs": [
    {
     "data": {
      "text/plain": [
       "False"
      ]
     },
     "execution_count": 641,
     "metadata": {},
     "output_type": "execute_result"
    }
   ],
   "source": [
    "df.duplicated().any()"
   ]
  },
  {
   "cell_type": "code",
   "execution_count": 642,
   "id": "4fd6be35",
   "metadata": {
    "scrolled": true
   },
   "outputs": [
    {
     "data": {
      "text/plain": [
       "Index(['Age', 'Age.Group', 'Gender', 'Locality  ',\n",
       "       'Marital status                       ',\n",
       "       'Life.Style                                                                              ',\n",
       "       'Sleep', 'Category', 'Depression', 'Hyperlipi', 'Smoking',\n",
       "       'Family.History', 'F.History', 'Diabetes', 'HTN', 'Allergies', 'BP',\n",
       "       'Thrombolysis', 'BGR', 'B.Urea', 'S.Cr', 'S.Sodium', 'S.Potassium',\n",
       "       'S.Chloride', 'C.P.K', 'CK.MB', 'ESR', 'WBC', 'RBC', 'Hemoglobin',\n",
       "       'P.C.V', 'M.C.V', 'M.C.H', 'M.C.H.C', 'PLATELET_COUNT', 'NEUTROPHIL',\n",
       "       'LYMPHO', 'MONOCYTE', 'EOSINO', 'Others ', 'CO', 'Diagnosis',\n",
       "       'Hypersensitivity', 'cp', 'trestbps', 'chol', 'fbs', 'restecg',\n",
       "       'thalach', 'exang', 'oldpeak', 'slope', 'ca', 'thal', 'num', 'SK',\n",
       "       'SK.React', 'Reaction', 'Mortality', 'Follow.Up'],\n",
       "      dtype='object')"
      ]
     },
     "execution_count": 642,
     "metadata": {},
     "output_type": "execute_result"
    }
   ],
   "source": [
    "df.columns"
   ]
  },
  {
   "cell_type": "code",
   "execution_count": 643,
   "id": "24da71d0",
   "metadata": {
    "scrolled": false
   },
   "outputs": [
    {
     "name": "stderr",
     "output_type": "stream",
     "text": [
      "/var/folders/3l/g355y8_x43xf03wyg8tjr0m80000gn/T/ipykernel_97480/1228515619.py:1: FutureWarning: The default value of regex will change from True to False in a future version. In addition, single character regular expressions will *not* be treated as literal strings when regex=True.\n",
      "  df.columns = df.columns.str.replace(\".\", \"\")\n"
     ]
    }
   ],
   "source": [
    "df.columns = df.columns.str.replace(\".\", \"\")"
   ]
  },
  {
   "cell_type": "code",
   "execution_count": 644,
   "id": "434b037c",
   "metadata": {},
   "outputs": [],
   "source": [
    "df.columns = df.columns.str.replace(\" \", \"\")"
   ]
  },
  {
   "cell_type": "code",
   "execution_count": 645,
   "id": "12f5bb59",
   "metadata": {},
   "outputs": [
    {
     "data": {
      "text/html": [
       "<div>\n",
       "<style scoped>\n",
       "    .dataframe tbody tr th:only-of-type {\n",
       "        vertical-align: middle;\n",
       "    }\n",
       "\n",
       "    .dataframe tbody tr th {\n",
       "        vertical-align: top;\n",
       "    }\n",
       "\n",
       "    .dataframe thead th {\n",
       "        text-align: right;\n",
       "    }\n",
       "</style>\n",
       "<table border=\"1\" class=\"dataframe\">\n",
       "  <thead>\n",
       "    <tr style=\"text-align: right;\">\n",
       "      <th></th>\n",
       "      <th>FamilyHistory</th>\n",
       "      <th>FHistory</th>\n",
       "    </tr>\n",
       "  </thead>\n",
       "  <tbody>\n",
       "    <tr>\n",
       "      <th>0</th>\n",
       "      <td>NO</td>\n",
       "      <td>0</td>\n",
       "    </tr>\n",
       "    <tr>\n",
       "      <th>1</th>\n",
       "      <td>NO</td>\n",
       "      <td>0</td>\n",
       "    </tr>\n",
       "    <tr>\n",
       "      <th>2</th>\n",
       "      <td>NO</td>\n",
       "      <td>0</td>\n",
       "    </tr>\n",
       "    <tr>\n",
       "      <th>3</th>\n",
       "      <td>NO</td>\n",
       "      <td>0</td>\n",
       "    </tr>\n",
       "    <tr>\n",
       "      <th>4</th>\n",
       "      <td>NO</td>\n",
       "      <td>0</td>\n",
       "    </tr>\n",
       "    <tr>\n",
       "      <th>...</th>\n",
       "      <td>...</td>\n",
       "      <td>...</td>\n",
       "    </tr>\n",
       "    <tr>\n",
       "      <th>363</th>\n",
       "      <td>NO</td>\n",
       "      <td>0</td>\n",
       "    </tr>\n",
       "    <tr>\n",
       "      <th>364</th>\n",
       "      <td>YES</td>\n",
       "      <td>1</td>\n",
       "    </tr>\n",
       "    <tr>\n",
       "      <th>365</th>\n",
       "      <td>NO</td>\n",
       "      <td>0</td>\n",
       "    </tr>\n",
       "    <tr>\n",
       "      <th>366</th>\n",
       "      <td>YES</td>\n",
       "      <td>1</td>\n",
       "    </tr>\n",
       "    <tr>\n",
       "      <th>367</th>\n",
       "      <td>NO</td>\n",
       "      <td>0</td>\n",
       "    </tr>\n",
       "  </tbody>\n",
       "</table>\n",
       "<p>294 rows × 2 columns</p>\n",
       "</div>"
      ],
      "text/plain": [
       "    FamilyHistory  FHistory\n",
       "0              NO         0\n",
       "1              NO         0\n",
       "2              NO         0\n",
       "3              NO         0\n",
       "4              NO         0\n",
       "..            ...       ...\n",
       "363            NO         0\n",
       "364           YES         1\n",
       "365            NO         0\n",
       "366           YES         1\n",
       "367            NO         0\n",
       "\n",
       "[294 rows x 2 columns]"
      ]
     },
     "execution_count": 645,
     "metadata": {},
     "output_type": "execute_result"
    }
   ],
   "source": [
    "df.loc[:, ['FamilyHistory', 'FHistory']]"
   ]
  },
  {
   "cell_type": "code",
   "execution_count": 646,
   "id": "2611bbf5",
   "metadata": {},
   "outputs": [
    {
     "data": {
      "text/html": [
       "<div>\n",
       "<style scoped>\n",
       "    .dataframe tbody tr th:only-of-type {\n",
       "        vertical-align: middle;\n",
       "    }\n",
       "\n",
       "    .dataframe tbody tr th {\n",
       "        vertical-align: top;\n",
       "    }\n",
       "\n",
       "    .dataframe thead th {\n",
       "        text-align: right;\n",
       "    }\n",
       "</style>\n",
       "<table border=\"1\" class=\"dataframe\">\n",
       "  <thead>\n",
       "    <tr style=\"text-align: right;\">\n",
       "      <th></th>\n",
       "      <th>FHistory</th>\n",
       "    </tr>\n",
       "  </thead>\n",
       "  <tbody>\n",
       "    <tr>\n",
       "      <th>0</th>\n",
       "      <td>0</td>\n",
       "    </tr>\n",
       "    <tr>\n",
       "      <th>1</th>\n",
       "      <td>0</td>\n",
       "    </tr>\n",
       "    <tr>\n",
       "      <th>2</th>\n",
       "      <td>0</td>\n",
       "    </tr>\n",
       "    <tr>\n",
       "      <th>3</th>\n",
       "      <td>0</td>\n",
       "    </tr>\n",
       "    <tr>\n",
       "      <th>4</th>\n",
       "      <td>0</td>\n",
       "    </tr>\n",
       "    <tr>\n",
       "      <th>...</th>\n",
       "      <td>...</td>\n",
       "    </tr>\n",
       "    <tr>\n",
       "      <th>361</th>\n",
       "      <td>0</td>\n",
       "    </tr>\n",
       "    <tr>\n",
       "      <th>362</th>\n",
       "      <td>0</td>\n",
       "    </tr>\n",
       "    <tr>\n",
       "      <th>363</th>\n",
       "      <td>0</td>\n",
       "    </tr>\n",
       "    <tr>\n",
       "      <th>365</th>\n",
       "      <td>0</td>\n",
       "    </tr>\n",
       "    <tr>\n",
       "      <th>367</th>\n",
       "      <td>0</td>\n",
       "    </tr>\n",
       "  </tbody>\n",
       "</table>\n",
       "<p>238 rows × 1 columns</p>\n",
       "</div>"
      ],
      "text/plain": [
       "     FHistory\n",
       "0           0\n",
       "1           0\n",
       "2           0\n",
       "3           0\n",
       "4           0\n",
       "..        ...\n",
       "361         0\n",
       "362         0\n",
       "363         0\n",
       "365         0\n",
       "367         0\n",
       "\n",
       "[238 rows x 1 columns]"
      ]
     },
     "execution_count": 646,
     "metadata": {},
     "output_type": "execute_result"
    }
   ],
   "source": [
    "df.loc[df['FamilyHistory'] == 'NO', ['FHistory']]"
   ]
  },
  {
   "cell_type": "code",
   "execution_count": 647,
   "id": "f78ab512",
   "metadata": {
    "scrolled": true
   },
   "outputs": [
    {
     "name": "stdout",
     "output_type": "stream",
     "text": [
      "FHistory    1\n",
      "dtype: int64\n"
     ]
    }
   ],
   "source": [
    "print(df.loc[df['FamilyHistory'] == 'NO', ['FHistory']].nunique())"
   ]
  },
  {
   "cell_type": "code",
   "execution_count": 648,
   "id": "002ee9f4",
   "metadata": {
    "scrolled": true
   },
   "outputs": [],
   "source": [
    "df = df.drop(columns = 'FamilyHistory')\n",
    "\n",
    "# df = df.drop('FamilyHistory', axis = 1) axis 는 무슨 의미?"
   ]
  },
  {
   "cell_type": "code",
   "execution_count": 649,
   "id": "84381770",
   "metadata": {
    "scrolled": true
   },
   "outputs": [
    {
     "data": {
      "text/plain": [
       "Index(['Age', 'AgeGroup', 'Gender', 'Locality', 'Maritalstatus', 'LifeStyle',\n",
       "       'Sleep', 'Category', 'Depression', 'Hyperlipi', 'Smoking', 'FHistory',\n",
       "       'Diabetes', 'HTN', 'Allergies', 'BP', 'Thrombolysis', 'BGR', 'BUrea',\n",
       "       'SCr', 'SSodium', 'SPotassium', 'SChloride', 'CPK', 'CKMB', 'ESR',\n",
       "       'WBC', 'RBC', 'Hemoglobin', 'PCV', 'MCV', 'MCH', 'MCHC',\n",
       "       'PLATELET_COUNT', 'NEUTROPHIL', 'LYMPHO', 'MONOCYTE', 'EOSINO',\n",
       "       'Others', 'CO', 'Diagnosis', 'Hypersensitivity', 'cp', 'trestbps',\n",
       "       'chol', 'fbs', 'restecg', 'thalach', 'exang', 'oldpeak', 'slope', 'ca',\n",
       "       'thal', 'num', 'SK', 'SKReact', 'Reaction', 'Mortality', 'FollowUp'],\n",
       "      dtype='object')"
      ]
     },
     "execution_count": 649,
     "metadata": {},
     "output_type": "execute_result"
    }
   ],
   "source": [
    "df.columns"
   ]
  },
  {
   "cell_type": "code",
   "execution_count": 650,
   "id": "d49beb0b",
   "metadata": {},
   "outputs": [],
   "source": [
    "# Create a list of columns containing only two unique values\n",
    "\n",
    "two_val_list = []\n",
    "\n",
    "for i in list_cols:\n",
    "    if df[i].nunique() == 2:\n",
    "        two_val_list.append(i)"
   ]
  },
  {
   "cell_type": "code",
   "execution_count": 651,
   "id": "b3d6cf9c",
   "metadata": {
    "scrolled": true
   },
   "outputs": [
    {
     "name": "stdout",
     "output_type": "stream",
     "text": [
      "Column name: Gender\n",
      " Values:\n",
      "Male      231\n",
      "Female     63\n",
      "Name: Gender, dtype: int64\n",
      "\n",
      "\n",
      "Column name: Locality\n",
      " Values:\n",
      "URBAN    176\n",
      "RURAL    104\n",
      "NaN       14\n",
      "Name: Locality, dtype: int64\n",
      "\n",
      "\n",
      "Column name: Maritalstatus\n",
      " Values:\n",
      "MARRIED    291\n",
      "SINGLE       3\n",
      "Name: Maritalstatus, dtype: int64\n",
      "\n",
      "\n",
      "Column name: LifeStyle\n",
      " Values:\n",
      "YES    168\n",
      "NO     119\n",
      "NaN      7\n",
      "Name: LifeStyle, dtype: int64\n",
      "\n",
      "\n",
      "Column name: Sleep\n",
      " Values:\n",
      "NO     178\n",
      "YES    116\n",
      "Name: Sleep, dtype: int64\n",
      "\n",
      "\n",
      "Column name: Category\n",
      " Values:\n",
      "FREE    266\n",
      "PAID     28\n",
      "Name: Category, dtype: int64\n",
      "\n",
      "\n",
      "Column name: Depression\n",
      " Values:\n",
      "YES    280\n",
      "NO      14\n",
      "Name: Depression, dtype: int64\n",
      "\n",
      "\n",
      "Column name: Hyperlipi\n",
      " Values:\n",
      "YES    261\n",
      "NO      20\n",
      "NaN     13\n",
      "Name: Hyperlipi, dtype: int64\n",
      "\n",
      "\n",
      "Column name: Smoking\n",
      " Values:\n",
      "YES    154\n",
      "NO     127\n",
      "NaN     13\n",
      "Name: Smoking, dtype: int64\n",
      "\n",
      "\n",
      "Column name: FHistory\n",
      " Values:\n",
      "0    238\n",
      "1     56\n",
      "Name: FHistory, dtype: int64\n",
      "\n",
      "\n",
      "Column name: Diabetes\n",
      " Values:\n",
      "0    163\n",
      "1    131\n",
      "Name: Diabetes, dtype: int64\n",
      "\n",
      "\n",
      "Column name: HTN\n",
      " Values:\n",
      "YES    154\n",
      "NO     140\n",
      "Name: HTN, dtype: int64\n",
      "\n",
      "\n",
      "Column name: Allergies\n",
      " Values:\n",
      "NO     285\n",
      "YES      9\n",
      "Name: Allergies, dtype: int64\n",
      "\n",
      "\n",
      "Column name: Thrombolysis\n",
      " Values:\n",
      "0.0    257\n",
      "NaN     27\n",
      "1.0     10\n",
      "Name: Thrombolysis, dtype: int64\n",
      "\n",
      "\n",
      "Column name: Hypersensitivity\n",
      " Values:\n",
      "NO     282\n",
      "YES     12\n",
      "Name: Hypersensitivity, dtype: int64\n",
      "\n",
      "\n",
      "Column name: fbs\n",
      " Values:\n",
      "0    251\n",
      "1     43\n",
      "Name: fbs, dtype: int64\n",
      "\n",
      "\n",
      "Column name: exang\n",
      " Values:\n",
      "1    160\n",
      "0    134\n",
      "Name: exang, dtype: int64\n",
      "\n",
      "\n",
      "Column name: SK\n",
      " Values:\n",
      "1    289\n",
      "0      5\n",
      "Name: SK, dtype: int64\n",
      "\n",
      "\n",
      "Column name: Reaction\n",
      " Values:\n",
      "1    221\n",
      "0     73\n",
      "Name: Reaction, dtype: int64\n",
      "\n",
      "\n",
      "Column name: Mortality\n",
      " Values:\n",
      "0    229\n",
      "1     65\n",
      "Name: Mortality, dtype: int64\n",
      "\n",
      "\n"
     ]
    }
   ],
   "source": [
    "for i in two_val_list:\n",
    "    print(f'Column name: {i}\\n Values:\\n{df[i].value_counts(dropna=False)}\\n\\n')"
   ]
  },
  {
   "cell_type": "code",
   "execution_count": 652,
   "id": "16d343f2",
   "metadata": {
    "scrolled": true
   },
   "outputs": [
    {
     "data": {
      "text/html": [
       "<div>\n",
       "<style scoped>\n",
       "    .dataframe tbody tr th:only-of-type {\n",
       "        vertical-align: middle;\n",
       "    }\n",
       "\n",
       "    .dataframe tbody tr th {\n",
       "        vertical-align: top;\n",
       "    }\n",
       "\n",
       "    .dataframe thead th {\n",
       "        text-align: right;\n",
       "    }\n",
       "</style>\n",
       "<table border=\"1\" class=\"dataframe\">\n",
       "  <thead>\n",
       "    <tr style=\"text-align: right;\">\n",
       "      <th></th>\n",
       "      <th>Age</th>\n",
       "      <th>AgeGroup</th>\n",
       "      <th>Gender</th>\n",
       "      <th>Locality</th>\n",
       "      <th>Maritalstatus</th>\n",
       "      <th>LifeStyle</th>\n",
       "      <th>Sleep</th>\n",
       "      <th>Category</th>\n",
       "      <th>Depression</th>\n",
       "      <th>Hyperlipi</th>\n",
       "      <th>...</th>\n",
       "      <th>oldpeak</th>\n",
       "      <th>slope</th>\n",
       "      <th>ca</th>\n",
       "      <th>thal</th>\n",
       "      <th>num</th>\n",
       "      <th>SK</th>\n",
       "      <th>SKReact</th>\n",
       "      <th>Reaction</th>\n",
       "      <th>Mortality</th>\n",
       "      <th>FollowUp</th>\n",
       "    </tr>\n",
       "  </thead>\n",
       "  <tbody>\n",
       "    <tr>\n",
       "      <th>0</th>\n",
       "      <td>24</td>\n",
       "      <td>21-30</td>\n",
       "      <td>Female</td>\n",
       "      <td>URBAN</td>\n",
       "      <td>MARRIED</td>\n",
       "      <td>NO</td>\n",
       "      <td>NO</td>\n",
       "      <td>FREE</td>\n",
       "      <td>NO</td>\n",
       "      <td>YES</td>\n",
       "      <td>...</td>\n",
       "      <td>1.6</td>\n",
       "      <td>2</td>\n",
       "      <td>0</td>\n",
       "      <td>7</td>\n",
       "      <td>1.0</td>\n",
       "      <td>1</td>\n",
       "      <td>NO</td>\n",
       "      <td>0</td>\n",
       "      <td>0</td>\n",
       "      <td>1.0</td>\n",
       "    </tr>\n",
       "    <tr>\n",
       "      <th>1</th>\n",
       "      <td>24</td>\n",
       "      <td>21-30</td>\n",
       "      <td>Male</td>\n",
       "      <td>URBAN</td>\n",
       "      <td>MARRIED</td>\n",
       "      <td>YES</td>\n",
       "      <td>YES</td>\n",
       "      <td>FREE</td>\n",
       "      <td>YES</td>\n",
       "      <td>YES</td>\n",
       "      <td>...</td>\n",
       "      <td>1.6</td>\n",
       "      <td>2</td>\n",
       "      <td>0</td>\n",
       "      <td>7</td>\n",
       "      <td>1.0</td>\n",
       "      <td>1</td>\n",
       "      <td>COUGH.BLEEDING</td>\n",
       "      <td>1</td>\n",
       "      <td>0</td>\n",
       "      <td>5.0</td>\n",
       "    </tr>\n",
       "    <tr>\n",
       "      <th>2</th>\n",
       "      <td>24</td>\n",
       "      <td>21-30</td>\n",
       "      <td>Male</td>\n",
       "      <td>URBAN</td>\n",
       "      <td>MARRIED</td>\n",
       "      <td>YES</td>\n",
       "      <td>YES</td>\n",
       "      <td>FREE</td>\n",
       "      <td>YES</td>\n",
       "      <td>YES</td>\n",
       "      <td>...</td>\n",
       "      <td>1.6</td>\n",
       "      <td>2</td>\n",
       "      <td>0</td>\n",
       "      <td>7</td>\n",
       "      <td>1.0</td>\n",
       "      <td>1</td>\n",
       "      <td>COUGH.BLEEDING</td>\n",
       "      <td>1</td>\n",
       "      <td>0</td>\n",
       "      <td>5.0</td>\n",
       "    </tr>\n",
       "    <tr>\n",
       "      <th>3</th>\n",
       "      <td>24</td>\n",
       "      <td>21-30</td>\n",
       "      <td>Male</td>\n",
       "      <td>URBAN</td>\n",
       "      <td>MARRIED</td>\n",
       "      <td>YES</td>\n",
       "      <td>YES</td>\n",
       "      <td>FREE</td>\n",
       "      <td>YES</td>\n",
       "      <td>YES</td>\n",
       "      <td>...</td>\n",
       "      <td>1.6</td>\n",
       "      <td>2</td>\n",
       "      <td>0</td>\n",
       "      <td>7</td>\n",
       "      <td>1.0</td>\n",
       "      <td>1</td>\n",
       "      <td>COUGH.BLEEDING</td>\n",
       "      <td>1</td>\n",
       "      <td>0</td>\n",
       "      <td>5.0</td>\n",
       "    </tr>\n",
       "    <tr>\n",
       "      <th>4</th>\n",
       "      <td>24</td>\n",
       "      <td>21-30</td>\n",
       "      <td>Male</td>\n",
       "      <td>URBAN</td>\n",
       "      <td>MARRIED</td>\n",
       "      <td>YES</td>\n",
       "      <td>YES</td>\n",
       "      <td>FREE</td>\n",
       "      <td>YES</td>\n",
       "      <td>YES</td>\n",
       "      <td>...</td>\n",
       "      <td>1.6</td>\n",
       "      <td>2</td>\n",
       "      <td>0</td>\n",
       "      <td>7</td>\n",
       "      <td>1.0</td>\n",
       "      <td>1</td>\n",
       "      <td>COUGH.BLEEDING</td>\n",
       "      <td>1</td>\n",
       "      <td>0</td>\n",
       "      <td>5.0</td>\n",
       "    </tr>\n",
       "  </tbody>\n",
       "</table>\n",
       "<p>5 rows × 59 columns</p>\n",
       "</div>"
      ],
      "text/plain": [
       "   Age AgeGroup  Gender Locality Maritalstatus LifeStyle Sleep Category  \\\n",
       "0   24    21-30  Female    URBAN       MARRIED        NO    NO     FREE   \n",
       "1   24    21-30    Male    URBAN       MARRIED       YES   YES     FREE   \n",
       "2   24    21-30    Male    URBAN       MARRIED       YES   YES     FREE   \n",
       "3   24    21-30    Male    URBAN       MARRIED       YES   YES     FREE   \n",
       "4   24    21-30    Male    URBAN       MARRIED       YES   YES     FREE   \n",
       "\n",
       "  Depression Hyperlipi  ... oldpeak  slope  ca thal  num  SK         SKReact  \\\n",
       "0         NO       YES  ...     1.6      2   0    7  1.0   1              NO   \n",
       "1        YES       YES  ...     1.6      2   0    7  1.0   1  COUGH.BLEEDING   \n",
       "2        YES       YES  ...     1.6      2   0    7  1.0   1  COUGH.BLEEDING   \n",
       "3        YES       YES  ...     1.6      2   0    7  1.0   1  COUGH.BLEEDING   \n",
       "4        YES       YES  ...     1.6      2   0    7  1.0   1  COUGH.BLEEDING   \n",
       "\n",
       "   Reaction  Mortality  FollowUp  \n",
       "0         0          0       1.0  \n",
       "1         1          0       5.0  \n",
       "2         1          0       5.0  \n",
       "3         1          0       5.0  \n",
       "4         1          0       5.0  \n",
       "\n",
       "[5 rows x 59 columns]"
      ]
     },
     "execution_count": 652,
     "metadata": {},
     "output_type": "execute_result"
    }
   ],
   "source": [
    "df.head()"
   ]
  },
  {
   "cell_type": "code",
   "execution_count": 653,
   "id": "b2c82cf9",
   "metadata": {},
   "outputs": [],
   "source": [
    "# Example of how to convert string to numerical - only for columns with two unique values\n",
    "# We will talk about how to convert object columns which have more than 2 unique values later\n",
    "df['Gender'] = df['Gender'].map({'Female':1, 'Male':0})\n",
    "df['Locality'] = df['Locality'].map({'URBAN':1, 'RURAL':0})\n",
    "df['Maritalstatus'] = df['Maritalstatus'].map({'MARRIED':1, 'SINGLE':0})\n",
    "df['LifeStyle'] = df['LifeStyle'].map({'YES':1, 'NO':0})\n",
    "df['Sleep'] = df['Sleep'].map({'YES':1, 'NO':0})\n",
    "df['Category'] = df['Category'].map({'PAID':1, 'FREE':0})\n",
    "df['Depression'] = df['Depression'].map({'YES':1, 'NO':0})\n",
    "df['Hyperlipi'] = df['Hyperlipi'].map({'YES':1, 'NO':0})\n",
    "df['Smoking'] = df['Smoking'].map({'YES':1, 'NO':0})\n",
    "df['HTN'] = df['HTN'].map({'YES':1, 'NO':0})\n",
    "df['Allergies'] = df['Allergies'].map({'YES':1, 'NO':0})\n",
    "df['Hypersensitivity'] = df['Hypersensitivity'].map({'YES':1, 'NO':0})\n",
    "\n",
    "\n",
    "#Column name: Thrombolysis\n",
    "# Values:\n",
    "#0.0    257\n",
    "#NaN     27\n",
    "#1.0     10\n",
    "#Name: Thrombolysis, dtype: int64"
   ]
  },
  {
   "cell_type": "code",
   "execution_count": 654,
   "id": "195968e9",
   "metadata": {
    "scrolled": true
   },
   "outputs": [
    {
     "data": {
      "text/plain": [
       "['Age',\n",
       " 'Gender',\n",
       " 'Locality',\n",
       " 'Maritalstatus',\n",
       " 'LifeStyle',\n",
       " 'Sleep',\n",
       " 'Category',\n",
       " 'Depression',\n",
       " 'Hyperlipi',\n",
       " 'Smoking',\n",
       " 'FHistory',\n",
       " 'Diabetes',\n",
       " 'HTN',\n",
       " 'Allergies',\n",
       " 'BP',\n",
       " 'Thrombolysis',\n",
       " 'BGR',\n",
       " 'BUrea',\n",
       " 'SCr',\n",
       " 'SSodium',\n",
       " 'SPotassium',\n",
       " 'SChloride',\n",
       " 'CPK',\n",
       " 'CKMB',\n",
       " 'ESR',\n",
       " 'WBC',\n",
       " 'RBC',\n",
       " 'Hemoglobin',\n",
       " 'PCV',\n",
       " 'MCV',\n",
       " 'MCH',\n",
       " 'MCHC',\n",
       " 'PLATELET_COUNT',\n",
       " 'NEUTROPHIL',\n",
       " 'LYMPHO',\n",
       " 'MONOCYTE',\n",
       " 'EOSINO',\n",
       " 'Hypersensitivity',\n",
       " 'cp',\n",
       " 'trestbps',\n",
       " 'chol',\n",
       " 'fbs',\n",
       " 'restecg',\n",
       " 'thalach',\n",
       " 'exang',\n",
       " 'oldpeak',\n",
       " 'slope',\n",
       " 'ca',\n",
       " 'thal',\n",
       " 'num',\n",
       " 'SK',\n",
       " 'Reaction',\n",
       " 'Mortality',\n",
       " 'FollowUp']"
      ]
     },
     "execution_count": 654,
     "metadata": {},
     "output_type": "execute_result"
    }
   ],
   "source": [
    "num_val_list = []\n",
    "for i in num_val:\n",
    "    if df[i].dtypes == 'int64'or 'float64':\n",
    "        num_val_list.append(i)\n",
    "\n",
    "num_val_list"
   ]
  },
  {
   "cell_type": "code",
   "execution_count": 655,
   "id": "84cac7fb",
   "metadata": {},
   "outputs": [
    {
     "data": {
      "text/plain": [
       "['Age',\n",
       " 'BP',\n",
       " 'BGR',\n",
       " 'BUrea',\n",
       " 'SCr',\n",
       " 'SSodium',\n",
       " 'SPotassium',\n",
       " 'SChloride',\n",
       " 'CPK',\n",
       " 'CKMB',\n",
       " 'ESR',\n",
       " 'WBC',\n",
       " 'RBC',\n",
       " 'Hemoglobin',\n",
       " 'PCV',\n",
       " 'MCV',\n",
       " 'MCH',\n",
       " 'MCHC',\n",
       " 'PLATELET_COUNT',\n",
       " 'NEUTROPHIL',\n",
       " 'LYMPHO',\n",
       " 'MONOCYTE',\n",
       " 'EOSINO',\n",
       " 'cp',\n",
       " 'trestbps',\n",
       " 'chol',\n",
       " 'restecg',\n",
       " 'thalach',\n",
       " 'oldpeak',\n",
       " 'slope',\n",
       " 'ca',\n",
       " 'thal',\n",
       " 'num',\n",
       " 'FollowUp']"
      ]
     },
     "execution_count": 655,
     "metadata": {},
     "output_type": "execute_result"
    }
   ],
   "source": [
    "num_val_list = [i for i in num_val_list if i not in two_val_list]\n",
    "\n",
    "num_val_list"
   ]
  },
  {
   "cell_type": "code",
   "execution_count": 656,
   "id": "bb34d2e0",
   "metadata": {},
   "outputs": [],
   "source": [
    "# Create a list of columns which have missing values in it\n",
    "null_list = df.columns[df.isna().any()].tolist()"
   ]
  },
  {
   "cell_type": "code",
   "execution_count": 657,
   "id": "d9745db5",
   "metadata": {},
   "outputs": [
    {
     "data": {
      "text/plain": [
       "['Locality',\n",
       " 'LifeStyle',\n",
       " 'Hyperlipi',\n",
       " 'Smoking',\n",
       " 'BP',\n",
       " 'Thrombolysis',\n",
       " 'CPK',\n",
       " 'CKMB',\n",
       " 'ESR',\n",
       " 'WBC',\n",
       " 'RBC',\n",
       " 'Hemoglobin',\n",
       " 'PCV',\n",
       " 'PLATELET_COUNT',\n",
       " 'EOSINO',\n",
       " 'Others',\n",
       " 'Diagnosis',\n",
       " 'trestbps',\n",
       " 'num',\n",
       " 'FollowUp']"
      ]
     },
     "execution_count": 657,
     "metadata": {},
     "output_type": "execute_result"
    }
   ],
   "source": [
    "null_list"
   ]
  },
  {
   "cell_type": "code",
   "execution_count": 658,
   "id": "de59ac56",
   "metadata": {},
   "outputs": [],
   "source": [
    "# Find a list of columns which have missing values AND its dtype is object\n",
    "null_cat_list = []\n",
    "\n",
    "for i in null_list:\n",
    "    if df[i].dtypes == 'object':\n",
    "        null_cat_list.append(i)"
   ]
  },
  {
   "cell_type": "code",
   "execution_count": 659,
   "id": "bb66fbb2",
   "metadata": {},
   "outputs": [
    {
     "data": {
      "text/plain": [
       "['Others', 'Diagnosis']"
      ]
     },
     "execution_count": 659,
     "metadata": {},
     "output_type": "execute_result"
    }
   ],
   "source": [
    "null_cat_list"
   ]
  },
  {
   "cell_type": "code",
   "execution_count": 660,
   "id": "44460e1b",
   "metadata": {},
   "outputs": [
    {
     "data": {
      "text/html": [
       "<div>\n",
       "<style scoped>\n",
       "    .dataframe tbody tr th:only-of-type {\n",
       "        vertical-align: middle;\n",
       "    }\n",
       "\n",
       "    .dataframe tbody tr th {\n",
       "        vertical-align: top;\n",
       "    }\n",
       "\n",
       "    .dataframe thead th {\n",
       "        text-align: right;\n",
       "    }\n",
       "</style>\n",
       "<table border=\"1\" class=\"dataframe\">\n",
       "  <thead>\n",
       "    <tr style=\"text-align: right;\">\n",
       "      <th></th>\n",
       "      <th>Age</th>\n",
       "      <th>AgeGroup</th>\n",
       "      <th>Gender</th>\n",
       "      <th>Locality</th>\n",
       "      <th>Maritalstatus</th>\n",
       "      <th>LifeStyle</th>\n",
       "      <th>Sleep</th>\n",
       "      <th>Category</th>\n",
       "      <th>Depression</th>\n",
       "      <th>Hyperlipi</th>\n",
       "      <th>...</th>\n",
       "      <th>oldpeak</th>\n",
       "      <th>slope</th>\n",
       "      <th>ca</th>\n",
       "      <th>thal</th>\n",
       "      <th>num</th>\n",
       "      <th>SK</th>\n",
       "      <th>SKReact</th>\n",
       "      <th>Reaction</th>\n",
       "      <th>Mortality</th>\n",
       "      <th>FollowUp</th>\n",
       "    </tr>\n",
       "  </thead>\n",
       "  <tbody>\n",
       "    <tr>\n",
       "      <th>0</th>\n",
       "      <td>24</td>\n",
       "      <td>21-30</td>\n",
       "      <td>1</td>\n",
       "      <td>1.0</td>\n",
       "      <td>1</td>\n",
       "      <td>0.0</td>\n",
       "      <td>0</td>\n",
       "      <td>0</td>\n",
       "      <td>0</td>\n",
       "      <td>1.0</td>\n",
       "      <td>...</td>\n",
       "      <td>1.6</td>\n",
       "      <td>2</td>\n",
       "      <td>0</td>\n",
       "      <td>7</td>\n",
       "      <td>1.0</td>\n",
       "      <td>1</td>\n",
       "      <td>NO</td>\n",
       "      <td>0</td>\n",
       "      <td>0</td>\n",
       "      <td>1.0</td>\n",
       "    </tr>\n",
       "    <tr>\n",
       "      <th>1</th>\n",
       "      <td>24</td>\n",
       "      <td>21-30</td>\n",
       "      <td>0</td>\n",
       "      <td>1.0</td>\n",
       "      <td>1</td>\n",
       "      <td>1.0</td>\n",
       "      <td>1</td>\n",
       "      <td>0</td>\n",
       "      <td>1</td>\n",
       "      <td>1.0</td>\n",
       "      <td>...</td>\n",
       "      <td>1.6</td>\n",
       "      <td>2</td>\n",
       "      <td>0</td>\n",
       "      <td>7</td>\n",
       "      <td>1.0</td>\n",
       "      <td>1</td>\n",
       "      <td>COUGH.BLEEDING</td>\n",
       "      <td>1</td>\n",
       "      <td>0</td>\n",
       "      <td>5.0</td>\n",
       "    </tr>\n",
       "    <tr>\n",
       "      <th>2</th>\n",
       "      <td>24</td>\n",
       "      <td>21-30</td>\n",
       "      <td>0</td>\n",
       "      <td>1.0</td>\n",
       "      <td>1</td>\n",
       "      <td>1.0</td>\n",
       "      <td>1</td>\n",
       "      <td>0</td>\n",
       "      <td>1</td>\n",
       "      <td>1.0</td>\n",
       "      <td>...</td>\n",
       "      <td>1.6</td>\n",
       "      <td>2</td>\n",
       "      <td>0</td>\n",
       "      <td>7</td>\n",
       "      <td>1.0</td>\n",
       "      <td>1</td>\n",
       "      <td>COUGH.BLEEDING</td>\n",
       "      <td>1</td>\n",
       "      <td>0</td>\n",
       "      <td>5.0</td>\n",
       "    </tr>\n",
       "    <tr>\n",
       "      <th>3</th>\n",
       "      <td>24</td>\n",
       "      <td>21-30</td>\n",
       "      <td>0</td>\n",
       "      <td>1.0</td>\n",
       "      <td>1</td>\n",
       "      <td>1.0</td>\n",
       "      <td>1</td>\n",
       "      <td>0</td>\n",
       "      <td>1</td>\n",
       "      <td>1.0</td>\n",
       "      <td>...</td>\n",
       "      <td>1.6</td>\n",
       "      <td>2</td>\n",
       "      <td>0</td>\n",
       "      <td>7</td>\n",
       "      <td>1.0</td>\n",
       "      <td>1</td>\n",
       "      <td>COUGH.BLEEDING</td>\n",
       "      <td>1</td>\n",
       "      <td>0</td>\n",
       "      <td>5.0</td>\n",
       "    </tr>\n",
       "    <tr>\n",
       "      <th>4</th>\n",
       "      <td>24</td>\n",
       "      <td>21-30</td>\n",
       "      <td>0</td>\n",
       "      <td>1.0</td>\n",
       "      <td>1</td>\n",
       "      <td>1.0</td>\n",
       "      <td>1</td>\n",
       "      <td>0</td>\n",
       "      <td>1</td>\n",
       "      <td>1.0</td>\n",
       "      <td>...</td>\n",
       "      <td>1.6</td>\n",
       "      <td>2</td>\n",
       "      <td>0</td>\n",
       "      <td>7</td>\n",
       "      <td>1.0</td>\n",
       "      <td>1</td>\n",
       "      <td>COUGH.BLEEDING</td>\n",
       "      <td>1</td>\n",
       "      <td>0</td>\n",
       "      <td>5.0</td>\n",
       "    </tr>\n",
       "  </tbody>\n",
       "</table>\n",
       "<p>5 rows × 59 columns</p>\n",
       "</div>"
      ],
      "text/plain": [
       "   Age AgeGroup  Gender  Locality  Maritalstatus  LifeStyle  Sleep  Category  \\\n",
       "0   24    21-30       1       1.0              1        0.0      0         0   \n",
       "1   24    21-30       0       1.0              1        1.0      1         0   \n",
       "2   24    21-30       0       1.0              1        1.0      1         0   \n",
       "3   24    21-30       0       1.0              1        1.0      1         0   \n",
       "4   24    21-30       0       1.0              1        1.0      1         0   \n",
       "\n",
       "   Depression  Hyperlipi  ...  oldpeak  slope  ca  thal  num  SK  \\\n",
       "0           0        1.0  ...      1.6      2   0     7  1.0   1   \n",
       "1           1        1.0  ...      1.6      2   0     7  1.0   1   \n",
       "2           1        1.0  ...      1.6      2   0     7  1.0   1   \n",
       "3           1        1.0  ...      1.6      2   0     7  1.0   1   \n",
       "4           1        1.0  ...      1.6      2   0     7  1.0   1   \n",
       "\n",
       "          SKReact  Reaction  Mortality  FollowUp  \n",
       "0              NO         0          0       1.0  \n",
       "1  COUGH.BLEEDING         1          0       5.0  \n",
       "2  COUGH.BLEEDING         1          0       5.0  \n",
       "3  COUGH.BLEEDING         1          0       5.0  \n",
       "4  COUGH.BLEEDING         1          0       5.0  \n",
       "\n",
       "[5 rows x 59 columns]"
      ]
     },
     "execution_count": 660,
     "metadata": {},
     "output_type": "execute_result"
    }
   ],
   "source": [
    "df.head()"
   ]
  },
  {
   "cell_type": "code",
   "execution_count": 661,
   "id": "1662efbe",
   "metadata": {},
   "outputs": [],
   "source": [
    "# For imputation, we will create a function.\n",
    "\n",
    "def categorical_imputer (data_table, col):\n",
    "    \"\"\"\n",
    "    Impute null values in categorical variable with the most frequently observed value.\n",
    "    \n",
    "    Input parameter:\n",
    "    data_table: dataframe\n",
    "    col: object column with null value\n",
    "    \"\"\"\n",
    "    \n",
    "    imputer = SimpleImputer(strategy = 'most_frequent', missing_values = np.nan)\n",
    "    data_table[col] = imputer.fit_transform(df[[col]])\n",
    "    \n",
    "    # OR\n",
    "    \n",
    "#     imputer = SimpleImputer(missing_values=np.nan, strategy='most_frequent')\n",
    "#     df[col] = imputer.fit_transform(df[col].values.reshape(-1,1))[:,0]"
   ]
  },
  {
   "cell_type": "code",
   "execution_count": 662,
   "id": "ba62dc50",
   "metadata": {},
   "outputs": [],
   "source": [
    "for i in two_val_list:\n",
    "    categorical_imputer(df, i)"
   ]
  },
  {
   "cell_type": "code",
   "execution_count": 663,
   "id": "25cfcb11",
   "metadata": {},
   "outputs": [],
   "source": [
    "for i in null_cat_list:\n",
    "    categorical_imputer(df, i)"
   ]
  },
  {
   "cell_type": "code",
   "execution_count": 664,
   "id": "8a78da9e",
   "metadata": {},
   "outputs": [
    {
     "data": {
      "text/html": [
       "<div>\n",
       "<style scoped>\n",
       "    .dataframe tbody tr th:only-of-type {\n",
       "        vertical-align: middle;\n",
       "    }\n",
       "\n",
       "    .dataframe tbody tr th {\n",
       "        vertical-align: top;\n",
       "    }\n",
       "\n",
       "    .dataframe thead th {\n",
       "        text-align: right;\n",
       "    }\n",
       "</style>\n",
       "<table border=\"1\" class=\"dataframe\">\n",
       "  <thead>\n",
       "    <tr style=\"text-align: right;\">\n",
       "      <th></th>\n",
       "      <th>Age</th>\n",
       "      <th>AgeGroup</th>\n",
       "      <th>Gender</th>\n",
       "      <th>Locality</th>\n",
       "      <th>Maritalstatus</th>\n",
       "      <th>LifeStyle</th>\n",
       "      <th>Sleep</th>\n",
       "      <th>Category</th>\n",
       "      <th>Depression</th>\n",
       "      <th>Hyperlipi</th>\n",
       "      <th>...</th>\n",
       "      <th>oldpeak</th>\n",
       "      <th>slope</th>\n",
       "      <th>ca</th>\n",
       "      <th>thal</th>\n",
       "      <th>num</th>\n",
       "      <th>SK</th>\n",
       "      <th>SKReact</th>\n",
       "      <th>Reaction</th>\n",
       "      <th>Mortality</th>\n",
       "      <th>FollowUp</th>\n",
       "    </tr>\n",
       "  </thead>\n",
       "  <tbody>\n",
       "    <tr>\n",
       "      <th>0</th>\n",
       "      <td>24</td>\n",
       "      <td>21-30</td>\n",
       "      <td>1</td>\n",
       "      <td>1.0</td>\n",
       "      <td>1</td>\n",
       "      <td>0.0</td>\n",
       "      <td>0</td>\n",
       "      <td>0</td>\n",
       "      <td>0</td>\n",
       "      <td>1.0</td>\n",
       "      <td>...</td>\n",
       "      <td>1.6</td>\n",
       "      <td>2</td>\n",
       "      <td>0</td>\n",
       "      <td>7</td>\n",
       "      <td>1.0</td>\n",
       "      <td>1</td>\n",
       "      <td>NO</td>\n",
       "      <td>0</td>\n",
       "      <td>0</td>\n",
       "      <td>1.0</td>\n",
       "    </tr>\n",
       "    <tr>\n",
       "      <th>1</th>\n",
       "      <td>24</td>\n",
       "      <td>21-30</td>\n",
       "      <td>0</td>\n",
       "      <td>1.0</td>\n",
       "      <td>1</td>\n",
       "      <td>1.0</td>\n",
       "      <td>1</td>\n",
       "      <td>0</td>\n",
       "      <td>1</td>\n",
       "      <td>1.0</td>\n",
       "      <td>...</td>\n",
       "      <td>1.6</td>\n",
       "      <td>2</td>\n",
       "      <td>0</td>\n",
       "      <td>7</td>\n",
       "      <td>1.0</td>\n",
       "      <td>1</td>\n",
       "      <td>COUGH.BLEEDING</td>\n",
       "      <td>1</td>\n",
       "      <td>0</td>\n",
       "      <td>5.0</td>\n",
       "    </tr>\n",
       "    <tr>\n",
       "      <th>2</th>\n",
       "      <td>24</td>\n",
       "      <td>21-30</td>\n",
       "      <td>0</td>\n",
       "      <td>1.0</td>\n",
       "      <td>1</td>\n",
       "      <td>1.0</td>\n",
       "      <td>1</td>\n",
       "      <td>0</td>\n",
       "      <td>1</td>\n",
       "      <td>1.0</td>\n",
       "      <td>...</td>\n",
       "      <td>1.6</td>\n",
       "      <td>2</td>\n",
       "      <td>0</td>\n",
       "      <td>7</td>\n",
       "      <td>1.0</td>\n",
       "      <td>1</td>\n",
       "      <td>COUGH.BLEEDING</td>\n",
       "      <td>1</td>\n",
       "      <td>0</td>\n",
       "      <td>5.0</td>\n",
       "    </tr>\n",
       "    <tr>\n",
       "      <th>3</th>\n",
       "      <td>24</td>\n",
       "      <td>21-30</td>\n",
       "      <td>0</td>\n",
       "      <td>1.0</td>\n",
       "      <td>1</td>\n",
       "      <td>1.0</td>\n",
       "      <td>1</td>\n",
       "      <td>0</td>\n",
       "      <td>1</td>\n",
       "      <td>1.0</td>\n",
       "      <td>...</td>\n",
       "      <td>1.6</td>\n",
       "      <td>2</td>\n",
       "      <td>0</td>\n",
       "      <td>7</td>\n",
       "      <td>1.0</td>\n",
       "      <td>1</td>\n",
       "      <td>COUGH.BLEEDING</td>\n",
       "      <td>1</td>\n",
       "      <td>0</td>\n",
       "      <td>5.0</td>\n",
       "    </tr>\n",
       "    <tr>\n",
       "      <th>4</th>\n",
       "      <td>24</td>\n",
       "      <td>21-30</td>\n",
       "      <td>0</td>\n",
       "      <td>1.0</td>\n",
       "      <td>1</td>\n",
       "      <td>1.0</td>\n",
       "      <td>1</td>\n",
       "      <td>0</td>\n",
       "      <td>1</td>\n",
       "      <td>1.0</td>\n",
       "      <td>...</td>\n",
       "      <td>1.6</td>\n",
       "      <td>2</td>\n",
       "      <td>0</td>\n",
       "      <td>7</td>\n",
       "      <td>1.0</td>\n",
       "      <td>1</td>\n",
       "      <td>COUGH.BLEEDING</td>\n",
       "      <td>1</td>\n",
       "      <td>0</td>\n",
       "      <td>5.0</td>\n",
       "    </tr>\n",
       "  </tbody>\n",
       "</table>\n",
       "<p>5 rows × 59 columns</p>\n",
       "</div>"
      ],
      "text/plain": [
       "   Age AgeGroup  Gender  Locality  Maritalstatus  LifeStyle  Sleep  Category  \\\n",
       "0   24    21-30       1       1.0              1        0.0      0         0   \n",
       "1   24    21-30       0       1.0              1        1.0      1         0   \n",
       "2   24    21-30       0       1.0              1        1.0      1         0   \n",
       "3   24    21-30       0       1.0              1        1.0      1         0   \n",
       "4   24    21-30       0       1.0              1        1.0      1         0   \n",
       "\n",
       "   Depression  Hyperlipi  ...  oldpeak  slope  ca  thal  num  SK  \\\n",
       "0           0        1.0  ...      1.6      2   0     7  1.0   1   \n",
       "1           1        1.0  ...      1.6      2   0     7  1.0   1   \n",
       "2           1        1.0  ...      1.6      2   0     7  1.0   1   \n",
       "3           1        1.0  ...      1.6      2   0     7  1.0   1   \n",
       "4           1        1.0  ...      1.6      2   0     7  1.0   1   \n",
       "\n",
       "          SKReact  Reaction  Mortality  FollowUp  \n",
       "0              NO         0          0       1.0  \n",
       "1  COUGH.BLEEDING         1          0       5.0  \n",
       "2  COUGH.BLEEDING         1          0       5.0  \n",
       "3  COUGH.BLEEDING         1          0       5.0  \n",
       "4  COUGH.BLEEDING         1          0       5.0  \n",
       "\n",
       "[5 rows x 59 columns]"
      ]
     },
     "execution_count": 664,
     "metadata": {},
     "output_type": "execute_result"
    }
   ],
   "source": [
    "df.head()"
   ]
  },
  {
   "cell_type": "code",
   "execution_count": 665,
   "id": "4e995214",
   "metadata": {
    "scrolled": true
   },
   "outputs": [
    {
     "name": "stdout",
     "output_type": "stream",
     "text": [
      "Age                  0\n",
      "AgeGroup             0\n",
      "Gender               0\n",
      "Locality             0\n",
      "Maritalstatus        0\n",
      "LifeStyle            0\n",
      "Sleep                0\n",
      "Category             0\n",
      "Depression           0\n",
      "Hyperlipi            0\n",
      "Smoking              0\n",
      "FHistory             0\n",
      "Diabetes             0\n",
      "HTN                  0\n",
      "Allergies            0\n",
      "BP                  59\n",
      "Thrombolysis         0\n",
      "BGR                  0\n",
      "BUrea                0\n",
      "SCr                  0\n",
      "SSodium              0\n",
      "SPotassium           0\n",
      "SChloride            0\n",
      "CPK                 10\n",
      "CKMB                10\n",
      "ESR                 10\n",
      "WBC                 32\n",
      "RBC                 19\n",
      "Hemoglobin          19\n",
      "PCV                  9\n",
      "MCV                  0\n",
      "MCH                  0\n",
      "MCHC                 0\n",
      "PLATELET_COUNT       3\n",
      "NEUTROPHIL           0\n",
      "LYMPHO               0\n",
      "MONOCYTE             0\n",
      "EOSINO               1\n",
      "Others               0\n",
      "CO                   0\n",
      "Diagnosis            0\n",
      "Hypersensitivity     0\n",
      "cp                   0\n",
      "trestbps            24\n",
      "chol                 0\n",
      "fbs                  0\n",
      "restecg              0\n",
      "thalach              0\n",
      "exang                0\n",
      "oldpeak              0\n",
      "slope                0\n",
      "ca                   0\n",
      "thal                 0\n",
      "num                 24\n",
      "SK                   0\n",
      "SKReact              0\n",
      "Reaction             0\n",
      "Mortality            0\n",
      "FollowUp            15\n",
      "dtype: int64\n"
     ]
    }
   ],
   "source": [
    "print(df.isna().sum())"
   ]
  },
  {
   "cell_type": "code",
   "execution_count": 666,
   "id": "17d65251",
   "metadata": {},
   "outputs": [],
   "source": [
    "list_cols = list(df.columns)"
   ]
  },
  {
   "cell_type": "code",
   "execution_count": 667,
   "id": "43441454",
   "metadata": {},
   "outputs": [
    {
     "data": {
      "text/html": [
       "<div>\n",
       "<style scoped>\n",
       "    .dataframe tbody tr th:only-of-type {\n",
       "        vertical-align: middle;\n",
       "    }\n",
       "\n",
       "    .dataframe tbody tr th {\n",
       "        vertical-align: top;\n",
       "    }\n",
       "\n",
       "    .dataframe thead th {\n",
       "        text-align: right;\n",
       "    }\n",
       "</style>\n",
       "<table border=\"1\" class=\"dataframe\">\n",
       "  <thead>\n",
       "    <tr style=\"text-align: right;\">\n",
       "      <th></th>\n",
       "      <th>Age</th>\n",
       "      <th>AgeGroup</th>\n",
       "      <th>Gender</th>\n",
       "      <th>Locality</th>\n",
       "      <th>Maritalstatus</th>\n",
       "      <th>LifeStyle</th>\n",
       "      <th>Sleep</th>\n",
       "      <th>Category</th>\n",
       "      <th>Depression</th>\n",
       "      <th>Hyperlipi</th>\n",
       "      <th>...</th>\n",
       "      <th>oldpeak</th>\n",
       "      <th>slope</th>\n",
       "      <th>ca</th>\n",
       "      <th>thal</th>\n",
       "      <th>num</th>\n",
       "      <th>SK</th>\n",
       "      <th>SKReact</th>\n",
       "      <th>Reaction</th>\n",
       "      <th>Mortality</th>\n",
       "      <th>FollowUp</th>\n",
       "    </tr>\n",
       "  </thead>\n",
       "  <tbody>\n",
       "    <tr>\n",
       "      <th>0</th>\n",
       "      <td>24</td>\n",
       "      <td>21-30</td>\n",
       "      <td>1</td>\n",
       "      <td>1.0</td>\n",
       "      <td>1</td>\n",
       "      <td>0.0</td>\n",
       "      <td>0</td>\n",
       "      <td>0</td>\n",
       "      <td>0</td>\n",
       "      <td>1.0</td>\n",
       "      <td>...</td>\n",
       "      <td>1.6</td>\n",
       "      <td>2</td>\n",
       "      <td>0</td>\n",
       "      <td>7</td>\n",
       "      <td>1.0</td>\n",
       "      <td>1</td>\n",
       "      <td>NO</td>\n",
       "      <td>0</td>\n",
       "      <td>0</td>\n",
       "      <td>1.0</td>\n",
       "    </tr>\n",
       "    <tr>\n",
       "      <th>1</th>\n",
       "      <td>24</td>\n",
       "      <td>21-30</td>\n",
       "      <td>0</td>\n",
       "      <td>1.0</td>\n",
       "      <td>1</td>\n",
       "      <td>1.0</td>\n",
       "      <td>1</td>\n",
       "      <td>0</td>\n",
       "      <td>1</td>\n",
       "      <td>1.0</td>\n",
       "      <td>...</td>\n",
       "      <td>1.6</td>\n",
       "      <td>2</td>\n",
       "      <td>0</td>\n",
       "      <td>7</td>\n",
       "      <td>1.0</td>\n",
       "      <td>1</td>\n",
       "      <td>COUGH.BLEEDING</td>\n",
       "      <td>1</td>\n",
       "      <td>0</td>\n",
       "      <td>5.0</td>\n",
       "    </tr>\n",
       "    <tr>\n",
       "      <th>2</th>\n",
       "      <td>24</td>\n",
       "      <td>21-30</td>\n",
       "      <td>0</td>\n",
       "      <td>1.0</td>\n",
       "      <td>1</td>\n",
       "      <td>1.0</td>\n",
       "      <td>1</td>\n",
       "      <td>0</td>\n",
       "      <td>1</td>\n",
       "      <td>1.0</td>\n",
       "      <td>...</td>\n",
       "      <td>1.6</td>\n",
       "      <td>2</td>\n",
       "      <td>0</td>\n",
       "      <td>7</td>\n",
       "      <td>1.0</td>\n",
       "      <td>1</td>\n",
       "      <td>COUGH.BLEEDING</td>\n",
       "      <td>1</td>\n",
       "      <td>0</td>\n",
       "      <td>5.0</td>\n",
       "    </tr>\n",
       "    <tr>\n",
       "      <th>3</th>\n",
       "      <td>24</td>\n",
       "      <td>21-30</td>\n",
       "      <td>0</td>\n",
       "      <td>1.0</td>\n",
       "      <td>1</td>\n",
       "      <td>1.0</td>\n",
       "      <td>1</td>\n",
       "      <td>0</td>\n",
       "      <td>1</td>\n",
       "      <td>1.0</td>\n",
       "      <td>...</td>\n",
       "      <td>1.6</td>\n",
       "      <td>2</td>\n",
       "      <td>0</td>\n",
       "      <td>7</td>\n",
       "      <td>1.0</td>\n",
       "      <td>1</td>\n",
       "      <td>COUGH.BLEEDING</td>\n",
       "      <td>1</td>\n",
       "      <td>0</td>\n",
       "      <td>5.0</td>\n",
       "    </tr>\n",
       "    <tr>\n",
       "      <th>4</th>\n",
       "      <td>24</td>\n",
       "      <td>21-30</td>\n",
       "      <td>0</td>\n",
       "      <td>1.0</td>\n",
       "      <td>1</td>\n",
       "      <td>1.0</td>\n",
       "      <td>1</td>\n",
       "      <td>0</td>\n",
       "      <td>1</td>\n",
       "      <td>1.0</td>\n",
       "      <td>...</td>\n",
       "      <td>1.6</td>\n",
       "      <td>2</td>\n",
       "      <td>0</td>\n",
       "      <td>7</td>\n",
       "      <td>1.0</td>\n",
       "      <td>1</td>\n",
       "      <td>COUGH.BLEEDING</td>\n",
       "      <td>1</td>\n",
       "      <td>0</td>\n",
       "      <td>5.0</td>\n",
       "    </tr>\n",
       "  </tbody>\n",
       "</table>\n",
       "<p>5 rows × 59 columns</p>\n",
       "</div>"
      ],
      "text/plain": [
       "   Age AgeGroup  Gender  Locality  Maritalstatus  LifeStyle  Sleep  Category  \\\n",
       "0   24    21-30       1       1.0              1        0.0      0         0   \n",
       "1   24    21-30       0       1.0              1        1.0      1         0   \n",
       "2   24    21-30       0       1.0              1        1.0      1         0   \n",
       "3   24    21-30       0       1.0              1        1.0      1         0   \n",
       "4   24    21-30       0       1.0              1        1.0      1         0   \n",
       "\n",
       "   Depression  Hyperlipi  ...  oldpeak  slope  ca  thal  num  SK  \\\n",
       "0           0        1.0  ...      1.6      2   0     7  1.0   1   \n",
       "1           1        1.0  ...      1.6      2   0     7  1.0   1   \n",
       "2           1        1.0  ...      1.6      2   0     7  1.0   1   \n",
       "3           1        1.0  ...      1.6      2   0     7  1.0   1   \n",
       "4           1        1.0  ...      1.6      2   0     7  1.0   1   \n",
       "\n",
       "          SKReact  Reaction  Mortality  FollowUp  \n",
       "0              NO         0          0       1.0  \n",
       "1  COUGH.BLEEDING         1          0       5.0  \n",
       "2  COUGH.BLEEDING         1          0       5.0  \n",
       "3  COUGH.BLEEDING         1          0       5.0  \n",
       "4  COUGH.BLEEDING         1          0       5.0  \n",
       "\n",
       "[5 rows x 59 columns]"
      ]
     },
     "execution_count": 667,
     "metadata": {},
     "output_type": "execute_result"
    }
   ],
   "source": [
    "df.head()"
   ]
  },
  {
   "cell_type": "code",
   "execution_count": 668,
   "id": "9f31dbfa",
   "metadata": {},
   "outputs": [
    {
     "name": "stdout",
     "output_type": "stream",
     "text": [
      "Index(['Age', 'Gender', 'Locality', 'Maritalstatus', 'LifeStyle', 'Sleep',\n",
      "       'Category', 'Depression', 'Hyperlipi', 'Smoking', 'FHistory',\n",
      "       'Diabetes', 'HTN', 'Allergies', 'BP', 'Thrombolysis', 'BGR', 'BUrea',\n",
      "       'SCr', 'SSodium', 'SPotassium', 'SChloride', 'CPK', 'CKMB', 'ESR',\n",
      "       'WBC', 'RBC', 'Hemoglobin', 'PCV', 'MCV', 'MCH', 'MCHC',\n",
      "       'PLATELET_COUNT', 'NEUTROPHIL', 'LYMPHO', 'MONOCYTE', 'EOSINO',\n",
      "       'Hypersensitivity', 'cp', 'trestbps', 'chol', 'fbs', 'restecg',\n",
      "       'thalach', 'exang', 'oldpeak', 'slope', 'ca', 'thal', 'num', 'SK',\n",
      "       'Reaction', 'Mortality', 'FollowUp'],\n",
      "      dtype='object')\n"
     ]
    }
   ],
   "source": [
    "# numeric types : int, float, complex\n",
    "num_val = df.select_dtypes(include = [\"int64\", \"float64\"]).columns\n",
    "\n",
    "\n",
    "\n",
    "print(num_val)"
   ]
  },
  {
   "cell_type": "code",
   "execution_count": 669,
   "id": "f069bced",
   "metadata": {},
   "outputs": [],
   "source": [
    "num_val_list = []\n",
    "for i in num_val:\n",
    "    if df[i].dtypes == 'int64'or 'float64':\n",
    "        num_val_list.append(i)\n",
    "\n",
    "num_val_list = [i for i in num_val_list if i not in two_val_list]"
   ]
  },
  {
   "cell_type": "code",
   "execution_count": 670,
   "id": "cd5c3de4",
   "metadata": {
    "scrolled": true
   },
   "outputs": [
    {
     "data": {
      "image/png": "[encoded data removed]",
      "text/plain": [
       "<Figure size 720x360 with 1 Axes>"
      ]
     },
     "metadata": {
      "needs_background": "light"
     },
     "output_type": "display_data"
    },
    {
     "data": {
      "image/png": "[encoded data removed]",
      "text/plain": [
       "<Figure size 720x360 with 1 Axes>"
      ]
     },
     "metadata": {
      "needs_background": "light"
     },
     "output_type": "display_data"
    },
    {
     "data": {
      "image/png": "[encoded data removed]",
      "text/plain": [
       "<Figure size 720x360 with 1 Axes>"
      ]
     },
     "metadata": {
      "needs_background": "light"
     },
     "output_type": "display_data"
    },
    {
     "data": {
      "image/png": "[encoded data removed]",
      "text/plain": [
       "<Figure size 720x360 with 1 Axes>"
      ]
     },
     "metadata": {
      "needs_background": "light"
     },
     "output_type": "display_data"
    },
    {
     "data": {
      "image/png": "[encoded data removed]",
      "text/plain": [
       "<Figure size 720x360 with 1 Axes>"
      ]
     },
     "metadata": {
      "needs_background": "light"
     },
     "output_type": "display_data"
    },
    {
     "data": {
      "image/png": "[encoded data removed]",
      "text/plain": [
       "<Figure size 720x360 with 1 Axes>"
      ]
     },
     "metadata": {
      "needs_background": "light"
     },
     "output_type": "display_data"
    },
    {
     "data": {
      "image/png": "[encoded data removed]",
      "text/plain": [
       "<Figure size 720x360 with 1 Axes>"
      ]
     },
     "metadata": {
      "needs_background": "light"
     },
     "output_type": "display_data"
    },
    {
     "data": {
      "image/png": "[encoded data removed]",
      "text/plain": [
       "<Figure size 720x360 with 1 Axes>"
      ]
     },
     "metadata": {
      "needs_background": "light"
     },
     "output_type": "display_data"
    },
    {
     "data": {
      "image/png": "[encoded data removed]",
      "text/plain": [
       "<Figure size 720x360 with 1 Axes>"
      ]
     },
     "metadata": {
      "needs_background": "light"
     },
     "output_type": "display_data"
    },
    {
     "data": {
      "image/png": "[encoded data removed]",
      "text/plain": [
       "<Figure size 720x360 with 1 Axes>"
      ]
     },
     "metadata": {
      "needs_background": "light"
     },
     "output_type": "display_data"
    },
    {
     "data": {
      "image/png": "[encoded data removed]",
      "text/plain": [
       "<Figure size 720x360 with 1 Axes>"
      ]
     },
     "metadata": {
      "needs_background": "light"
     },
     "output_type": "display_data"
    },
    {
     "data": {
      "image/png": "[encoded data removed]",
      "text/plain": [
       "<Figure size 720x360 with 1 Axes>"
      ]
     },
     "metadata": {
      "needs_background": "light"
     },
     "output_type": "display_data"
    },
    {
     "data": {
      "image/png": "[encoded data removed]",
      "text/plain": [
       "<Figure size 720x360 with 1 Axes>"
      ]
     },
     "metadata": {
      "needs_background": "light"
     },
     "output_type": "display_data"
    },
    {
     "data": {
      "image/png": "[encoded data removed]",
      "text/plain": [
       "<Figure size 720x360 with 1 Axes>"
      ]
     },
     "metadata": {
      "needs_background": "light"
     },
     "output_type": "display_data"
    },
    {
     "data": {
      "image/png": "[encoded data removed]",
      "text/plain": [
       "<Figure size 720x360 with 1 Axes>"
      ]
     },
     "metadata": {
      "needs_background": "light"
     },
     "output_type": "display_data"
    },
    {
     "data": {
      "image/png": "[encoded data removed]",
      "text/plain": [
       "<Figure size 720x360 with 1 Axes>"
      ]
     },
     "metadata": {
      "needs_background": "light"
     },
     "output_type": "display_data"
    },
    {
     "data": {
      "image/png": "[encoded data removed]",
      "text/plain": [
       "<Figure size 720x360 with 1 Axes>"
      ]
     },
     "metadata": {
      "needs_background": "light"
     },
     "output_type": "display_data"
    },
    {
     "data": {
      "image/png": "[encoded data removed]",
      "text/plain": [
       "<Figure size 720x360 with 1 Axes>"
      ]
     },
     "metadata": {
      "needs_background": "light"
     },
     "output_type": "display_data"
    },
    {
     "data": {
      "image/png": "[encoded data removed]",
      "text/plain": [
       "<Figure size 720x360 with 1 Axes>"
      ]
     },
     "metadata": {
      "needs_background": "light"
     },
     "output_type": "display_data"
    },
    {
     "data": {
      "image/png": "[encoded data removed]",
      "text/plain": [
       "<Figure size 720x360 with 1 Axes>"
      ]
     },
     "metadata": {
      "needs_background": "light"
     },
     "output_type": "display_data"
    },
    {
     "data": {
      "image/png": "[encoded data removed]",
      "text/plain": [
       "<Figure size 720x360 with 1 Axes>"
      ]
     },
     "metadata": {
      "needs_background": "light"
     },
     "output_type": "display_data"
    },
    {
     "data": {
      "image/png": "[encoded data removed]",
      "text/plain": [
       "<Figure size 720x360 with 1 Axes>"
      ]
     },
     "metadata": {
      "needs_background": "light"
     },
     "output_type": "display_data"
    },
    {
     "data": {
      "image/png": "[encoded data removed]",
      "text/plain": [
       "<Figure size 720x360 with 1 Axes>"
      ]
     },
     "metadata": {
      "needs_background": "light"
     },
     "output_type": "display_data"
    },
    {
     "data": {
      "image/png": "[encoded data removed]",
      "text/plain": [
       "<Figure size 720x360 with 1 Axes>"
      ]
     },
     "metadata": {
      "needs_background": "light"
     },
     "output_type": "display_data"
    },
    {
     "data": {
      "image/png": "[encoded data removed]",
      "text/plain": [
       "<Figure size 720x360 with 1 Axes>"
      ]
     },
     "metadata": {
      "needs_background": "light"
     },
     "output_type": "display_data"
    },
    {
     "data": {
      "image/png": "[encoded data removed]",
      "text/plain": [
       "<Figure size 720x360 with 1 Axes>"
      ]
     },
     "metadata": {
      "needs_background": "light"
     },
     "output_type": "display_data"
    },
    {
     "data": {
      "image/png": "[encoded data removed]",
      "text/plain": [
       "<Figure size 720x360 with 1 Axes>"
      ]
     },
     "metadata": {
      "needs_background": "light"
     },
     "output_type": "display_data"
    },
    {
     "data": {
      "image/png": "[encoded data removed]",
      "text/plain": [
       "<Figure size 720x360 with 1 Axes>"
      ]
     },
     "metadata": {
      "needs_background": "light"
     },
     "output_type": "display_data"
    },
    {
     "data": {
      "image/png": "[encoded data removed]",
      "text/plain": [
       "<Figure size 720x360 with 1 Axes>"
      ]
     },
     "metadata": {
      "needs_background": "light"
     },
     "output_type": "display_data"
    },
    {
     "data": {
      "image/png": "[encoded data removed]",
      "text/plain": [
       "<Figure size 720x360 with 1 Axes>"
      ]
     },
     "metadata": {
      "needs_background": "light"
     },
     "output_type": "display_data"
    },
    {
     "data": {
      "image/png": "[encoded data removed]",
      "text/plain": [
       "<Figure size 720x360 with 1 Axes>"
      ]
     },
     "metadata": {
      "needs_background": "light"
     },
     "output_type": "display_data"
    },
    {
     "data": {
      "image/png": "[encoded data removed]",
      "text/plain": [
       "<Figure size 720x360 with 1 Axes>"
      ]
     },
     "metadata": {
      "needs_background": "light"
     },
     "output_type": "display_data"
    },
    {
     "data": {
      "image/png": "[encoded data removed]",
      "text/plain": [
       "<Figure size 720x360 with 1 Axes>"
      ]
     },
     "metadata": {
      "needs_background": "light"
     },
     "output_type": "display_data"
    },
    {
     "data": {
      "image/png": "[encoded data removed]",
      "text/plain": [
       "<Figure size 720x360 with 1 Axes>"
      ]
     },
     "metadata": {
      "needs_background": "light"
     },
     "output_type": "display_data"
    }
   ],
   "source": [
    "for i in num_val_list:\n",
    "    df[i].hist(bins=10, figsize=(10, 5))\n",
    "    plt.xlabel(i)\n",
    "    plt.ylabel(\"counts\")\n",
    "    plt.show()"
   ]
  },
  {
   "cell_type": "code",
   "execution_count": 671,
   "id": "a4ca3008",
   "metadata": {},
   "outputs": [],
   "source": [
    "normal = ['Age', 'SPotassium', 'SSodium', 'SChloride', 'RBC', 'Hemoglobin', 'MCV', 'MCH', 'MCHC', 'PLATELET_COUNT', 'LYMPHO', 'trestbps', 'chol', 'thalach', 'FollowUp']\n",
    "nonormal = [i for i in num_val_list if i not in normal]"
   ]
  },
  {
   "cell_type": "code",
   "execution_count": 672,
   "id": "5668ff15",
   "metadata": {},
   "outputs": [],
   "source": [
    "def numerical_normdist_imputer (data_table, col):\n",
    "    \"\"\"\n",
    "    Impute null values in categorical variable with the most frequently observed value.\n",
    "    \n",
    "    Input parameter:\n",
    "    data_table: dataframe\n",
    "    col: object column with null value\n",
    "    \"\"\"\n",
    "    \n",
    "    imputer = SimpleImputer(strategy = 'mean', missing_values = np.nan)\n",
    "    data_table[col] = imputer.fit_transform(df[[col]])"
   ]
  },
  {
   "cell_type": "code",
   "execution_count": 673,
   "id": "39a0fb87",
   "metadata": {},
   "outputs": [],
   "source": [
    "for i in normal:\n",
    "    numerical_normdist_imputer(df, i)"
   ]
  },
  {
   "cell_type": "code",
   "execution_count": 674,
   "id": "ed821496",
   "metadata": {},
   "outputs": [],
   "source": [
    "def numerical_unnormdist_imputer (data_table, col):\n",
    "    \"\"\"\n",
    "    Impute null values in categorical variable with the most frequently observed value.\n",
    "    \n",
    "    Input parameter:\n",
    "    data_table: dataframe\n",
    "    col: object column with null value\n",
    "    \"\"\"\n",
    "    \n",
    "    imputer = SimpleImputer(strategy = 'median', missing_values = np.nan)\n",
    "    data_table[col] = imputer.fit_transform(df[[col]])"
   ]
  },
  {
   "cell_type": "code",
   "execution_count": 675,
   "id": "66a1843c",
   "metadata": {},
   "outputs": [],
   "source": [
    "for i in nonormal:\n",
    "    numerical_unnormdist_imputer(df, i)"
   ]
  },
  {
   "cell_type": "code",
   "execution_count": 676,
   "id": "01be0e8f",
   "metadata": {},
   "outputs": [
    {
     "data": {
      "text/plain": [
       "Age                 0\n",
       "AgeGroup            0\n",
       "Gender              0\n",
       "Locality            0\n",
       "Maritalstatus       0\n",
       "LifeStyle           0\n",
       "Sleep               0\n",
       "Category            0\n",
       "Depression          0\n",
       "Hyperlipi           0\n",
       "Smoking             0\n",
       "FHistory            0\n",
       "Diabetes            0\n",
       "HTN                 0\n",
       "Allergies           0\n",
       "BP                  0\n",
       "Thrombolysis        0\n",
       "BGR                 0\n",
       "BUrea               0\n",
       "SCr                 0\n",
       "SSodium             0\n",
       "SPotassium          0\n",
       "SChloride           0\n",
       "CPK                 0\n",
       "CKMB                0\n",
       "ESR                 0\n",
       "WBC                 0\n",
       "RBC                 0\n",
       "Hemoglobin          0\n",
       "PCV                 0\n",
       "MCV                 0\n",
       "MCH                 0\n",
       "MCHC                0\n",
       "PLATELET_COUNT      0\n",
       "NEUTROPHIL          0\n",
       "LYMPHO              0\n",
       "MONOCYTE            0\n",
       "EOSINO              0\n",
       "Others              0\n",
       "CO                  0\n",
       "Diagnosis           0\n",
       "Hypersensitivity    0\n",
       "cp                  0\n",
       "trestbps            0\n",
       "chol                0\n",
       "fbs                 0\n",
       "restecg             0\n",
       "thalach             0\n",
       "exang               0\n",
       "oldpeak             0\n",
       "slope               0\n",
       "ca                  0\n",
       "thal                0\n",
       "num                 0\n",
       "SK                  0\n",
       "SKReact             0\n",
       "Reaction            0\n",
       "Mortality           0\n",
       "FollowUp            0\n",
       "dtype: int64"
      ]
     },
     "execution_count": 676,
     "metadata": {},
     "output_type": "execute_result"
    }
   ],
   "source": [
    "df.isna().sum()"
   ]
  }
 ],
 "metadata": {
  "kernelspec": {
   "display_name": "Python 3 (ipykernel)",
   "language": "python",
   "name": "python3"
  },
  "language_info": {
   "codemirror_mode": {
    "name": "ipython",
    "version": 3
   },
   "file_extension": ".py",
   "mimetype": "text/x-python",
   "name": "python",
   "nbconvert_exporter": "python",
   "pygments_lexer": "ipython3",
   "version": "3.9.12"
  }
 },
 "nbformat": 4,
 "nbformat_minor": 5
}
